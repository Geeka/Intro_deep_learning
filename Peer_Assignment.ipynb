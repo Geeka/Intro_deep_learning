{
    "cells": [
        {
            "cell_type": "markdown",
            "metadata": {},
            "source": "### Set up the libraries"
        },
        {
            "cell_type": "code",
            "execution_count": 1,
            "metadata": {},
            "outputs": [
                {
                    "name": "stderr",
                    "output_type": "stream",
                    "text": "Using TensorFlow backend.\n"
                }
            ],
            "source": "import pandas as pd\nimport numpy as np\nfrom sklearn.model_selection import train_test_split\nimport keras\nfrom keras.models import Sequential\nfrom keras.layers import Dense\nfrom sklearn.metrics import mean_squared_error"
        },
        {
            "cell_type": "markdown",
            "metadata": {},
            "source": "### Read data rom url"
        },
        {
            "cell_type": "code",
            "execution_count": 2,
            "metadata": {
                "scrolled": true
            },
            "outputs": [
                {
                    "data": {
                        "text/html": "<div>\n<style scoped>\n    .dataframe tbody tr th:only-of-type {\n        vertical-align: middle;\n    }\n\n    .dataframe tbody tr th {\n        vertical-align: top;\n    }\n\n    .dataframe thead th {\n        text-align: right;\n    }\n</style>\n<table border=\"1\" class=\"dataframe\">\n  <thead>\n    <tr style=\"text-align: right;\">\n      <th></th>\n      <th>Cement</th>\n      <th>Blast Furnace Slag</th>\n      <th>Fly Ash</th>\n      <th>Water</th>\n      <th>Superplasticizer</th>\n      <th>Coarse Aggregate</th>\n      <th>Fine Aggregate</th>\n      <th>Age</th>\n      <th>Strength</th>\n    </tr>\n  </thead>\n  <tbody>\n    <tr>\n      <th>0</th>\n      <td>540.0</td>\n      <td>0.0</td>\n      <td>0.0</td>\n      <td>162.0</td>\n      <td>2.5</td>\n      <td>1040.0</td>\n      <td>676.0</td>\n      <td>28</td>\n      <td>79.99</td>\n    </tr>\n    <tr>\n      <th>1</th>\n      <td>540.0</td>\n      <td>0.0</td>\n      <td>0.0</td>\n      <td>162.0</td>\n      <td>2.5</td>\n      <td>1055.0</td>\n      <td>676.0</td>\n      <td>28</td>\n      <td>61.89</td>\n    </tr>\n    <tr>\n      <th>2</th>\n      <td>332.5</td>\n      <td>142.5</td>\n      <td>0.0</td>\n      <td>228.0</td>\n      <td>0.0</td>\n      <td>932.0</td>\n      <td>594.0</td>\n      <td>270</td>\n      <td>40.27</td>\n    </tr>\n    <tr>\n      <th>3</th>\n      <td>332.5</td>\n      <td>142.5</td>\n      <td>0.0</td>\n      <td>228.0</td>\n      <td>0.0</td>\n      <td>932.0</td>\n      <td>594.0</td>\n      <td>365</td>\n      <td>41.05</td>\n    </tr>\n    <tr>\n      <th>4</th>\n      <td>198.6</td>\n      <td>132.4</td>\n      <td>0.0</td>\n      <td>192.0</td>\n      <td>0.0</td>\n      <td>978.4</td>\n      <td>825.5</td>\n      <td>360</td>\n      <td>44.30</td>\n    </tr>\n  </tbody>\n</table>\n</div>",
                        "text/plain": "   Cement  Blast Furnace Slag  Fly Ash  Water  Superplasticizer  \\\n0   540.0                 0.0      0.0  162.0               2.5   \n1   540.0                 0.0      0.0  162.0               2.5   \n2   332.5               142.5      0.0  228.0               0.0   \n3   332.5               142.5      0.0  228.0               0.0   \n4   198.6               132.4      0.0  192.0               0.0   \n\n   Coarse Aggregate  Fine Aggregate  Age  Strength  \n0            1040.0           676.0   28     79.99  \n1            1055.0           676.0   28     61.89  \n2             932.0           594.0  270     40.27  \n3             932.0           594.0  365     41.05  \n4             978.4           825.5  360     44.30  "
                    },
                    "execution_count": 2,
                    "metadata": {},
                    "output_type": "execute_result"
                }
            ],
            "source": "concrete_data = pd.read_csv('https://s3-api.us-geo.objectstorage.softlayer.net/cf-courses-data/CognitiveClass/DL0101EN/labs/data/concrete_data.csv')\nconcrete_data.head()"
        },
        {
            "cell_type": "markdown",
            "metadata": {},
            "source": "### Analyse the data"
        },
        {
            "cell_type": "code",
            "execution_count": 3,
            "metadata": {
                "scrolled": true
            },
            "outputs": [
                {
                    "data": {
                        "text/plain": "(1030, 9)"
                    },
                    "execution_count": 3,
                    "metadata": {},
                    "output_type": "execute_result"
                }
            ],
            "source": "concrete_data.shape"
        },
        {
            "cell_type": "code",
            "execution_count": 4,
            "metadata": {},
            "outputs": [
                {
                    "data": {
                        "text/html": "<div>\n<style scoped>\n    .dataframe tbody tr th:only-of-type {\n        vertical-align: middle;\n    }\n\n    .dataframe tbody tr th {\n        vertical-align: top;\n    }\n\n    .dataframe thead th {\n        text-align: right;\n    }\n</style>\n<table border=\"1\" class=\"dataframe\">\n  <thead>\n    <tr style=\"text-align: right;\">\n      <th></th>\n      <th>Cement</th>\n      <th>Blast Furnace Slag</th>\n      <th>Fly Ash</th>\n      <th>Water</th>\n      <th>Superplasticizer</th>\n      <th>Coarse Aggregate</th>\n      <th>Fine Aggregate</th>\n      <th>Age</th>\n      <th>Strength</th>\n    </tr>\n  </thead>\n  <tbody>\n    <tr>\n      <th>count</th>\n      <td>1030.000000</td>\n      <td>1030.000000</td>\n      <td>1030.000000</td>\n      <td>1030.000000</td>\n      <td>1030.000000</td>\n      <td>1030.000000</td>\n      <td>1030.000000</td>\n      <td>1030.000000</td>\n      <td>1030.000000</td>\n    </tr>\n    <tr>\n      <th>mean</th>\n      <td>281.167864</td>\n      <td>73.895825</td>\n      <td>54.188350</td>\n      <td>181.567282</td>\n      <td>6.204660</td>\n      <td>972.918932</td>\n      <td>773.580485</td>\n      <td>45.662136</td>\n      <td>35.817961</td>\n    </tr>\n    <tr>\n      <th>std</th>\n      <td>104.506364</td>\n      <td>86.279342</td>\n      <td>63.997004</td>\n      <td>21.354219</td>\n      <td>5.973841</td>\n      <td>77.753954</td>\n      <td>80.175980</td>\n      <td>63.169912</td>\n      <td>16.705742</td>\n    </tr>\n    <tr>\n      <th>min</th>\n      <td>102.000000</td>\n      <td>0.000000</td>\n      <td>0.000000</td>\n      <td>121.800000</td>\n      <td>0.000000</td>\n      <td>801.000000</td>\n      <td>594.000000</td>\n      <td>1.000000</td>\n      <td>2.330000</td>\n    </tr>\n    <tr>\n      <th>25%</th>\n      <td>192.375000</td>\n      <td>0.000000</td>\n      <td>0.000000</td>\n      <td>164.900000</td>\n      <td>0.000000</td>\n      <td>932.000000</td>\n      <td>730.950000</td>\n      <td>7.000000</td>\n      <td>23.710000</td>\n    </tr>\n    <tr>\n      <th>50%</th>\n      <td>272.900000</td>\n      <td>22.000000</td>\n      <td>0.000000</td>\n      <td>185.000000</td>\n      <td>6.400000</td>\n      <td>968.000000</td>\n      <td>779.500000</td>\n      <td>28.000000</td>\n      <td>34.445000</td>\n    </tr>\n    <tr>\n      <th>75%</th>\n      <td>350.000000</td>\n      <td>142.950000</td>\n      <td>118.300000</td>\n      <td>192.000000</td>\n      <td>10.200000</td>\n      <td>1029.400000</td>\n      <td>824.000000</td>\n      <td>56.000000</td>\n      <td>46.135000</td>\n    </tr>\n    <tr>\n      <th>max</th>\n      <td>540.000000</td>\n      <td>359.400000</td>\n      <td>200.100000</td>\n      <td>247.000000</td>\n      <td>32.200000</td>\n      <td>1145.000000</td>\n      <td>992.600000</td>\n      <td>365.000000</td>\n      <td>82.600000</td>\n    </tr>\n  </tbody>\n</table>\n</div>",
                        "text/plain": "            Cement  Blast Furnace Slag      Fly Ash        Water  \\\ncount  1030.000000         1030.000000  1030.000000  1030.000000   \nmean    281.167864           73.895825    54.188350   181.567282   \nstd     104.506364           86.279342    63.997004    21.354219   \nmin     102.000000            0.000000     0.000000   121.800000   \n25%     192.375000            0.000000     0.000000   164.900000   \n50%     272.900000           22.000000     0.000000   185.000000   \n75%     350.000000          142.950000   118.300000   192.000000   \nmax     540.000000          359.400000   200.100000   247.000000   \n\n       Superplasticizer  Coarse Aggregate  Fine Aggregate          Age  \\\ncount       1030.000000       1030.000000     1030.000000  1030.000000   \nmean           6.204660        972.918932      773.580485    45.662136   \nstd            5.973841         77.753954       80.175980    63.169912   \nmin            0.000000        801.000000      594.000000     1.000000   \n25%            0.000000        932.000000      730.950000     7.000000   \n50%            6.400000        968.000000      779.500000    28.000000   \n75%           10.200000       1029.400000      824.000000    56.000000   \nmax           32.200000       1145.000000      992.600000   365.000000   \n\n          Strength  \ncount  1030.000000  \nmean     35.817961  \nstd      16.705742  \nmin       2.330000  \n25%      23.710000  \n50%      34.445000  \n75%      46.135000  \nmax      82.600000  "
                    },
                    "execution_count": 4,
                    "metadata": {},
                    "output_type": "execute_result"
                }
            ],
            "source": "concrete_data.describe()"
        },
        {
            "cell_type": "code",
            "execution_count": 5,
            "metadata": {},
            "outputs": [
                {
                    "data": {
                        "text/plain": "Cement                0\nBlast Furnace Slag    0\nFly Ash               0\nWater                 0\nSuperplasticizer      0\nCoarse Aggregate      0\nFine Aggregate        0\nAge                   0\nStrength              0\ndtype: int64"
                    },
                    "execution_count": 5,
                    "metadata": {},
                    "output_type": "execute_result"
                }
            ],
            "source": "concrete_data.isnull().sum()"
        },
        {
            "cell_type": "markdown",
            "metadata": {},
            "source": "### Split the input and output columns"
        },
        {
            "cell_type": "code",
            "execution_count": 6,
            "metadata": {},
            "outputs": [],
            "source": "concrete_data_columns = concrete_data.columns\n\npredictors = concrete_data[concrete_data_columns[concrete_data_columns != 'Strength']] # all columns except Strength\ntarget = concrete_data['Strength'] # Strength column"
        },
        {
            "cell_type": "code",
            "execution_count": 7,
            "metadata": {},
            "outputs": [
                {
                    "data": {
                        "text/html": "<div>\n<style scoped>\n    .dataframe tbody tr th:only-of-type {\n        vertical-align: middle;\n    }\n\n    .dataframe tbody tr th {\n        vertical-align: top;\n    }\n\n    .dataframe thead th {\n        text-align: right;\n    }\n</style>\n<table border=\"1\" class=\"dataframe\">\n  <thead>\n    <tr style=\"text-align: right;\">\n      <th></th>\n      <th>Cement</th>\n      <th>Blast Furnace Slag</th>\n      <th>Fly Ash</th>\n      <th>Water</th>\n      <th>Superplasticizer</th>\n      <th>Coarse Aggregate</th>\n      <th>Fine Aggregate</th>\n      <th>Age</th>\n    </tr>\n  </thead>\n  <tbody>\n    <tr>\n      <th>0</th>\n      <td>540.0</td>\n      <td>0.0</td>\n      <td>0.0</td>\n      <td>162.0</td>\n      <td>2.5</td>\n      <td>1040.0</td>\n      <td>676.0</td>\n      <td>28</td>\n    </tr>\n    <tr>\n      <th>1</th>\n      <td>540.0</td>\n      <td>0.0</td>\n      <td>0.0</td>\n      <td>162.0</td>\n      <td>2.5</td>\n      <td>1055.0</td>\n      <td>676.0</td>\n      <td>28</td>\n    </tr>\n    <tr>\n      <th>2</th>\n      <td>332.5</td>\n      <td>142.5</td>\n      <td>0.0</td>\n      <td>228.0</td>\n      <td>0.0</td>\n      <td>932.0</td>\n      <td>594.0</td>\n      <td>270</td>\n    </tr>\n    <tr>\n      <th>3</th>\n      <td>332.5</td>\n      <td>142.5</td>\n      <td>0.0</td>\n      <td>228.0</td>\n      <td>0.0</td>\n      <td>932.0</td>\n      <td>594.0</td>\n      <td>365</td>\n    </tr>\n    <tr>\n      <th>4</th>\n      <td>198.6</td>\n      <td>132.4</td>\n      <td>0.0</td>\n      <td>192.0</td>\n      <td>0.0</td>\n      <td>978.4</td>\n      <td>825.5</td>\n      <td>360</td>\n    </tr>\n  </tbody>\n</table>\n</div>",
                        "text/plain": "   Cement  Blast Furnace Slag  Fly Ash  Water  Superplasticizer  \\\n0   540.0                 0.0      0.0  162.0               2.5   \n1   540.0                 0.0      0.0  162.0               2.5   \n2   332.5               142.5      0.0  228.0               0.0   \n3   332.5               142.5      0.0  228.0               0.0   \n4   198.6               132.4      0.0  192.0               0.0   \n\n   Coarse Aggregate  Fine Aggregate  Age  \n0            1040.0           676.0   28  \n1            1055.0           676.0   28  \n2             932.0           594.0  270  \n3             932.0           594.0  365  \n4             978.4           825.5  360  "
                    },
                    "execution_count": 7,
                    "metadata": {},
                    "output_type": "execute_result"
                }
            ],
            "source": "predictors.head()"
        },
        {
            "cell_type": "code",
            "execution_count": 8,
            "metadata": {},
            "outputs": [
                {
                    "data": {
                        "text/plain": "0    79.99\n1    61.89\n2    40.27\n3    41.05\n4    44.30\nName: Strength, dtype: float64"
                    },
                    "execution_count": 8,
                    "metadata": {},
                    "output_type": "execute_result"
                }
            ],
            "source": "target.head()"
        },
        {
            "cell_type": "markdown",
            "metadata": {},
            "source": "### Normalize the input columns"
        },
        {
            "cell_type": "code",
            "execution_count": 9,
            "metadata": {
                "scrolled": true
            },
            "outputs": [
                {
                    "data": {
                        "text/html": "<div>\n<style scoped>\n    .dataframe tbody tr th:only-of-type {\n        vertical-align: middle;\n    }\n\n    .dataframe tbody tr th {\n        vertical-align: top;\n    }\n\n    .dataframe thead th {\n        text-align: right;\n    }\n</style>\n<table border=\"1\" class=\"dataframe\">\n  <thead>\n    <tr style=\"text-align: right;\">\n      <th></th>\n      <th>Cement</th>\n      <th>Blast Furnace Slag</th>\n      <th>Fly Ash</th>\n      <th>Water</th>\n      <th>Superplasticizer</th>\n      <th>Coarse Aggregate</th>\n      <th>Fine Aggregate</th>\n      <th>Age</th>\n    </tr>\n  </thead>\n  <tbody>\n    <tr>\n      <th>0</th>\n      <td>2.476712</td>\n      <td>-0.856472</td>\n      <td>-0.846733</td>\n      <td>-0.916319</td>\n      <td>-0.620147</td>\n      <td>0.862735</td>\n      <td>-1.217079</td>\n      <td>-0.279597</td>\n    </tr>\n    <tr>\n      <th>1</th>\n      <td>2.476712</td>\n      <td>-0.856472</td>\n      <td>-0.846733</td>\n      <td>-0.916319</td>\n      <td>-0.620147</td>\n      <td>1.055651</td>\n      <td>-1.217079</td>\n      <td>-0.279597</td>\n    </tr>\n    <tr>\n      <th>2</th>\n      <td>0.491187</td>\n      <td>0.795140</td>\n      <td>-0.846733</td>\n      <td>2.174405</td>\n      <td>-1.038638</td>\n      <td>-0.526262</td>\n      <td>-2.239829</td>\n      <td>3.551340</td>\n    </tr>\n    <tr>\n      <th>3</th>\n      <td>0.491187</td>\n      <td>0.795140</td>\n      <td>-0.846733</td>\n      <td>2.174405</td>\n      <td>-1.038638</td>\n      <td>-0.526262</td>\n      <td>-2.239829</td>\n      <td>5.055221</td>\n    </tr>\n    <tr>\n      <th>4</th>\n      <td>-0.790075</td>\n      <td>0.678079</td>\n      <td>-0.846733</td>\n      <td>0.488555</td>\n      <td>-1.038638</td>\n      <td>0.070492</td>\n      <td>0.647569</td>\n      <td>4.976069</td>\n    </tr>\n  </tbody>\n</table>\n</div>",
                        "text/plain": "     Cement  Blast Furnace Slag   Fly Ash     Water  Superplasticizer  \\\n0  2.476712           -0.856472 -0.846733 -0.916319         -0.620147   \n1  2.476712           -0.856472 -0.846733 -0.916319         -0.620147   \n2  0.491187            0.795140 -0.846733  2.174405         -1.038638   \n3  0.491187            0.795140 -0.846733  2.174405         -1.038638   \n4 -0.790075            0.678079 -0.846733  0.488555         -1.038638   \n\n   Coarse Aggregate  Fine Aggregate       Age  \n0          0.862735       -1.217079 -0.279597  \n1          1.055651       -1.217079 -0.279597  \n2         -0.526262       -2.239829  3.551340  \n3         -0.526262       -2.239829  5.055221  \n4          0.070492        0.647569  4.976069  "
                    },
                    "execution_count": 9,
                    "metadata": {},
                    "output_type": "execute_result"
                }
            ],
            "source": "predictors_norm = (predictors - predictors.mean()) / predictors.std()\npredictors_norm.head()"
        },
        {
            "cell_type": "code",
            "execution_count": 10,
            "metadata": {},
            "outputs": [
                {
                    "data": {
                        "text/plain": "8"
                    },
                    "execution_count": 10,
                    "metadata": {},
                    "output_type": "execute_result"
                }
            ],
            "source": "n_cols = predictors_norm.shape[1] # number of predictors\nn_cols"
        },
        {
            "cell_type": "markdown",
            "metadata": {},
            "source": "### Define the models and functions used"
        },
        {
            "cell_type": "markdown",
            "metadata": {},
            "source": "#### Define the base model with one hidden layer\nModel contaons one hidden layer of 10 nodes, Relu activation function, adam optimiser, mean squared error loss function"
        },
        {
            "cell_type": "code",
            "execution_count": 11,
            "metadata": {},
            "outputs": [],
            "source": "# define regression model\ndef regression_model():\n    # create model\n    model = Sequential()\n    model.add(Dense(10, activation='relu', input_shape=(n_cols,)))\n    model.add(Dense(1))\n    \n    # compile model\n    model.compile(optimizer='adam', loss='mean_squared_error')\n    return model"
        },
        {
            "cell_type": "markdown",
            "metadata": {},
            "source": "#### Define the model with three hidden layers\nModel contaons three hidden layers of 10 nodes, Relu activation function, adam optimiser, mean squared error loss function"
        },
        {
            "cell_type": "code",
            "execution_count": 12,
            "metadata": {},
            "outputs": [],
            "source": "# define regression model with three hidden layers\ndef regression_model_3():\n    # create model\n    model = Sequential()\n    model.add(Dense(10, activation='relu', input_shape=(n_cols,)))\n    model.add(Dense(10, activation='relu'))\n    model.add(Dense(10, activation='relu'))\n    model.add(Dense(1))\n    \n    # compile model\n    model.compile(optimizer='adam', loss='mean_squared_error')\n    return model"
        },
        {
            "cell_type": "markdown",
            "metadata": {},
            "source": "#### Define the function to display report"
        },
        {
            "cell_type": "code",
            "execution_count": 36,
            "metadata": {},
            "outputs": [],
            "source": "def print_scores(s,scorelist):\n    \n    print('Mean squared errors')\n    print(scorelist)\n    \n    #Get the mean and standard deviation of scores\n    \n    mean=np.mean(scorelist)\n    sd=np.std(scorelist)\n    \n    print('\\nScores for ',s)\n    print('Mean =',mean)\n    print('standard deviation=', sd)\n    return mean,sd"
        },
        {
            "cell_type": "markdown",
            "metadata": {},
            "source": "#### Number of loops to excute and evaluate the model"
        },
        {
            "cell_type": "code",
            "execution_count": 14,
            "metadata": {},
            "outputs": [],
            "source": "#define the number of loops for evaluating\niterations=50"
        },
        {
            "cell_type": "markdown",
            "metadata": {},
            "source": "#### Build and run the model 50 times and get the scores"
        },
        {
            "cell_type": "code",
            "execution_count": 15,
            "metadata": {},
            "outputs": [],
            "source": "def runmodel(predictors,epoch,hiddenlayers):\n    print('Started running the model....')\n    scores=[]\n    for i in range(iterations):\n        # Get a new set of test/train values with 30% split for test data\n        (x_train,x_test, y_train,y_test) = train_test_split(predictors,target,test_size=0.30,random_state=i)    \n\n        # build the model\n        if(hiddenlayers==False):\n            model = regression_model()\n        else:\n            model = regression_model_3()\n        verbose=int(i==0)\n        #train the model with 50 epoch\n        model.fit(x_train,y_train,validation_data=(x_test,y_test), epochs=epoch,verbose=verbose)\n               \n        #Evaluate the mean squared error\n        y_pred=model.predict(x_test)\n        score=mean_squared_error(y_test,y_pred)\n\n        scores.append(score)\n        print(i+1,'--',score,end=', ')\n    print('\\nDone evaluating ',iterations, ' times')\n    return scores"
        },
        {
            "cell_type": "markdown",
            "metadata": {},
            "source": "### Part A"
        },
        {
            "cell_type": "markdown",
            "metadata": {},
            "source": "#### Run and evaluate the model with one hidden layer,with columns not normalized and epoch=50 looping 50 times"
        },
        {
            "cell_type": "code",
            "execution_count": 16,
            "metadata": {
                "scrolled": true
            },
            "outputs": [
                {
                    "name": "stdout",
                    "output_type": "stream",
                    "text": "Started running the model....\nWARNING:tensorflow:From /opt/conda/envs/Python36/lib/python3.6/site-packages/tensorflow/python/framework/op_def_library.py:263: colocate_with (from tensorflow.python.framework.ops) is deprecated and will be removed in a future version.\nInstructions for updating:\nColocations handled automatically by placer.\nWARNING:tensorflow:From /opt/conda/envs/Python36/lib/python3.6/site-packages/tensorflow/python/ops/math_ops.py:3066: to_int32 (from tensorflow.python.ops.math_ops) is deprecated and will be removed in a future version.\nInstructions for updating:\nUse tf.cast instead.\nTrain on 721 samples, validate on 309 samples\nEpoch 1/50\n721/721 [==============================] - 2s 3ms/step - loss: 7921.5140 - val_loss: 4803.8475\nEpoch 2/50\n721/721 [==============================] - 0s 416us/step - loss: 4542.0531 - val_loss: 4165.1129\nEpoch 3/50\n721/721 [==============================] - 0s 363us/step - loss: 3947.8042 - val_loss: 3675.4624\nEpoch 4/50\n721/721 [==============================] - 2s 2ms/step - loss: 3470.1085 - val_loss: 3207.0309\nEpoch 5/50\n721/721 [==============================] - 0s 446us/step - loss: 3047.3202 - val_loss: 2801.1773\nEpoch 6/50\n721/721 [==============================] - 0s 384us/step - loss: 2643.0923 - val_loss: 2438.1330\nEpoch 7/50\n721/721 [==============================] - 0s 390us/step - loss: 2295.7658 - val_loss: 2106.6418\nEpoch 8/50\n721/721 [==============================] - 0s 395us/step - loss: 1980.5833 - val_loss: 1814.2521\nEpoch 9/50\n721/721 [==============================] - 3s 3ms/step - loss: 1700.8374 - val_loss: 1550.4663\nEpoch 10/50\n721/721 [==============================] - 0s 356us/step - loss: 1459.6134 - val_loss: 1326.4154\nEpoch 11/50\n721/721 [==============================] - 2s 2ms/step - loss: 1264.6947 - val_loss: 1138.1021\nEpoch 12/50\n721/721 [==============================] - 0s 413us/step - loss: 1059.7916 - val_loss: 957.9992\nEpoch 13/50\n721/721 [==============================] - 0s 414us/step - loss: 907.7871 - val_loss: 816.9785\nEpoch 14/50\n721/721 [==============================] - 0s 412us/step - loss: 770.6814 - val_loss: 687.8943\nEpoch 15/50\n721/721 [==============================] - 0s 387us/step - loss: 650.5043 - val_loss: 579.2538\nEpoch 16/50\n721/721 [==============================] - 0s 387us/step - loss: 563.3213 - val_loss: 493.0807\nEpoch 17/50\n721/721 [==============================] - 0s 362us/step - loss: 478.6376 - val_loss: 419.9914\nEpoch 18/50\n721/721 [==============================] - 0s 395us/step - loss: 413.7169 - val_loss: 359.5138\nEpoch 19/50\n721/721 [==============================] - 0s 473us/step - loss: 361.2134 - val_loss: 311.1959\nEpoch 20/50\n721/721 [==============================] - 0s 413us/step - loss: 319.6344 - val_loss: 277.2163\nEpoch 21/50\n721/721 [==============================] - 0s 334us/step - loss: 283.7518 - val_loss: 243.0622\nEpoch 22/50\n721/721 [==============================] - 0s 385us/step - loss: 255.4422 - val_loss: 214.1564\nEpoch 23/50\n721/721 [==============================] - 0s 334us/step - loss: 230.8957 - val_loss: 192.7850\nEpoch 24/50\n721/721 [==============================] - ETA: 0s - loss: 208.812 - 0s 385us/step - loss: 210.9099 - val_loss: 176.0201\nEpoch 25/50\n721/721 [==============================] - 0s 382us/step - loss: 195.2373 - val_loss: 162.0433\nEpoch 26/50\n721/721 [==============================] - 0s 359us/step - loss: 186.0713 - val_loss: 151.4923\nEpoch 27/50\n721/721 [==============================] - 0s 415us/step - loss: 178.0069 - val_loss: 143.7881\nEpoch 28/50\n721/721 [==============================] - 0s 440us/step - loss: 164.8282 - val_loss: 140.7527\nEpoch 29/50\n721/721 [==============================] - 0s 364us/step - loss: 160.0885 - val_loss: 131.7074\nEpoch 30/50\n721/721 [==============================] - 0s 387us/step - loss: 152.7213 - val_loss: 122.5972\nEpoch 31/50\n721/721 [==============================] - 0s 361us/step - loss: 146.7847 - val_loss: 118.8306\nEpoch 32/50\n721/721 [==============================] - 0s 386us/step - loss: 144.1274 - val_loss: 118.0520\nEpoch 33/50\n721/721 [==============================] - 0s 385us/step - loss: 144.2075 - val_loss: 112.2710\nEpoch 34/50\n721/721 [==============================] - 0s 391us/step - loss: 137.3495 - val_loss: 111.1087\nEpoch 35/50\n721/721 [==============================] - 0s 357us/step - loss: 137.0335 - val_loss: 108.0024\nEpoch 36/50\n721/721 [==============================] - 0s 371us/step - loss: 133.4973 - val_loss: 108.5100\nEpoch 37/50\n721/721 [==============================] - 0s 377us/step - loss: 134.3431 - val_loss: 104.5206\nEpoch 38/50\n721/721 [==============================] - 0s 365us/step - loss: 131.7121 - val_loss: 104.7871\nEpoch 39/50\n721/721 [==============================] - 0s 409us/step - loss: 131.4653 - val_loss: 104.5909\nEpoch 40/50\n721/721 [==============================] - 0s 385us/step - loss: 129.1983 - val_loss: 102.6063\nEpoch 41/50\n721/721 [==============================] - 0s 391us/step - loss: 128.5054 - val_loss: 100.3999\nEpoch 42/50\n721/721 [==============================] - 0s 412us/step - loss: 128.4033 - val_loss: 103.4687\nEpoch 43/50\n721/721 [==============================] - 0s 397us/step - loss: 124.5148 - val_loss: 105.5953\nEpoch 44/50\n721/721 [==============================] - 0s 396us/step - loss: 125.4567 - val_loss: 101.5064\nEpoch 45/50\n721/721 [==============================] - 0s 344us/step - loss: 123.6159 - val_loss: 98.0624\nEpoch 46/50\n721/721 [==============================] - 3s 4ms/step - loss: 123.5888 - val_loss: 100.1376\nEpoch 47/50\n721/721 [==============================] - 0s 374us/step - loss: 123.8359 - val_loss: 101.3068\nEpoch 48/50\n721/721 [==============================] - 2s 2ms/step - loss: 121.7175 - val_loss: 103.1205\nEpoch 49/50\n721/721 [==============================] - 2s 2ms/step - loss: 122.0688 - val_loss: 96.6536\nEpoch 50/50\n721/721 [==============================] - 0s 387us/step - loss: 121.3108 - val_loss: 97.1983\n1 -- 97.19827809899006, 2 -- 195.3393812136963, 3 -- 170.65669642529267, 4 -- 3901.5368068435773, 5 -- 185.15170299759612, 6 -- 129.52755082825422, 7 -- 152.24452058505378, 8 -- 2008.1202754270942, 9 -- 229.08112342287293, 10 -- 372.91740993880666, 11 -- 610.2605446756127, 12 -- 411.89858563510376, 13 -- 118.34912272461611, 14 -- 140.6601332952274, 15 -- 136.5338655294431, 16 -- 421.06554478067005, 17 -- 140.00105411976796, 18 -- 100.9353058783886, 19 -- 107.7450916616914, 20 -- 93.44861396708039, 21 -- 192.2785874114268, 22 -- 115.06602039099961, 23 -- 126.07198244990684, 24 -- 316.13259144081496, 25 -- 649.265900386334, 26 -- 108.90544692175197, 27 -- 137.03753625168093, 28 -- 590.022147171265, 29 -- 360.8735215222758, 30 -- 488.5975657313072, 31 -- 106.11586534750955, 32 -- 118.06289316951332, 33 -- 128.36252485994464, 34 -- 110.79051154309786, 35 -- 749.0358843398553, 36 -- 1027.6409975694137, 37 -- 115.3865645836732, 38 -- 119.17121741259365, 39 -- 197.73906948842486, 40 -- 246.30621064297557, 41 -- 532.3454728707567, 42 -- 118.57780136271651, 43 -- 187.43341153871674, 44 -- 230.93446083630138, 45 -- 295.5744237208724, 46 -- 4094.733003747336, 47 -- 418.3414709030016, 48 -- 541.7970891591913, 49 -- 82.96090127030362, 50 -- 108.33816075721899, \nDone evaluating  50  times\n"
                }
            ],
            "source": "scores_A=runmodel(predictors,50,False)"
        },
        {
            "cell_type": "markdown",
            "metadata": {},
            "source": "#### Result for Part A"
        },
        {
            "cell_type": "code",
            "execution_count": 37,
            "metadata": {
                "scrolled": true
            },
            "outputs": [
                {
                    "name": "stdout",
                    "output_type": "stream",
                    "text": "Mean squared errors\n[97.19827809899006, 195.3393812136963, 170.65669642529267, 3901.5368068435773, 185.15170299759612, 129.52755082825422, 152.24452058505378, 2008.1202754270942, 229.08112342287293, 372.91740993880666, 610.2605446756127, 411.89858563510376, 118.34912272461611, 140.6601332952274, 136.5338655294431, 421.06554478067005, 140.00105411976796, 100.9353058783886, 107.7450916616914, 93.44861396708039, 192.2785874114268, 115.06602039099961, 126.07198244990684, 316.13259144081496, 649.265900386334, 108.90544692175197, 137.03753625168093, 590.022147171265, 360.8735215222758, 488.5975657313072, 106.11586534750955, 118.06289316951332, 128.36252485994464, 110.79051154309786, 749.0358843398553, 1027.6409975694137, 115.3865645836732, 119.17121741259365, 197.73906948842486, 246.30621064297557, 532.3454728707567, 118.57780136271651, 187.43341153871674, 230.93446083630138, 295.5744237208724, 4094.733003747336, 418.3414709030016, 541.7970891591913, 82.96090127030362, 108.33816075721899]\n\nScores for  Part A\nMean = 446.7314168570003\nstandard deviation= 791.2202896418884\n"
                }
            ],
            "source": "mean_A,sd_A=print_scores('Part A',scores_A)"
        },
        {
            "cell_type": "markdown",
            "metadata": {},
            "source": "### Part B"
        },
        {
            "cell_type": "markdown",
            "metadata": {},
            "source": "#### Run and evaluate the model with one hidden layer,with columns normalized and epoch=50 looping 50 times"
        },
        {
            "cell_type": "code",
            "execution_count": 18,
            "metadata": {
                "scrolled": false
            },
            "outputs": [
                {
                    "name": "stdout",
                    "output_type": "stream",
                    "text": "Started running the model....\nTrain on 721 samples, validate on 309 samples\nEpoch 1/50\n721/721 [==============================] - 6s 9ms/step - loss: 1531.6615 - val_loss: 1480.9906\nEpoch 2/50\n721/721 [==============================] - 0s 553us/step - loss: 1514.8358 - val_loss: 1465.4019\nEpoch 3/50\n721/721 [==============================] - 0s 446us/step - loss: 1498.3451 - val_loss: 1449.5619\nEpoch 4/50\n721/721 [==============================] - 0s 470us/step - loss: 1481.5611 - val_loss: 1433.8084\nEpoch 5/50\n721/721 [==============================] - 0s 400us/step - loss: 1464.6333 - val_loss: 1417.6138\nEpoch 6/50\n721/721 [==============================] - 0s 441us/step - loss: 1447.2717 - val_loss: 1400.5260\nEpoch 7/50\n721/721 [==============================] - 0s 395us/step - loss: 1429.1573 - val_loss: 1382.6349\nEpoch 8/50\n721/721 [==============================] - 0s 447us/step - loss: 1410.3000 - val_loss: 1363.6704\nEpoch 9/50\n721/721 [==============================] - 0s 412us/step - loss: 1389.9151 - val_loss: 1344.0453\nEpoch 10/50\n721/721 [==============================] - 0s 443us/step - loss: 1369.0578 - val_loss: 1322.4117\nEpoch 11/50\n721/721 [==============================] - 0s 412us/step - loss: 1346.6169 - val_loss: 1300.2602\nEpoch 12/50\n721/721 [==============================] - 0s 415us/step - loss: 1322.9903 - val_loss: 1276.9170\nEpoch 13/50\n721/721 [==============================] - 0s 465us/step - loss: 1298.7184 - val_loss: 1252.0419\nEpoch 14/50\n721/721 [==============================] - 0s 442us/step - loss: 1273.0103 - val_loss: 1226.1524\nEpoch 15/50\n721/721 [==============================] - 0s 501us/step - loss: 1245.9621 - val_loss: 1199.4347\nEpoch 16/50\n721/721 [==============================] - 0s 414us/step - loss: 1218.0766 - val_loss: 1171.8074\nEpoch 17/50\n721/721 [==============================] - 0s 414us/step - loss: 1189.5118 - val_loss: 1142.8747\nEpoch 18/50\n721/721 [==============================] - 0s 420us/step - loss: 1159.6548 - val_loss: 1113.5714\nEpoch 19/50\n721/721 [==============================] - 0s 440us/step - loss: 1129.2030 - val_loss: 1083.3464\nEpoch 20/50\n721/721 [==============================] - 0s 430us/step - loss: 1098.2154 - val_loss: 1052.0875\nEpoch 21/50\n721/721 [==============================] - 0s 480us/step - loss: 1065.8567 - val_loss: 1021.1096\nEpoch 22/50\n721/721 [==============================] - 0s 413us/step - loss: 1033.5562 - val_loss: 989.1535\nEpoch 23/50\n721/721 [==============================] - 0s 470us/step - loss: 1000.3958 - val_loss: 957.1264\nEpoch 24/50\n721/721 [==============================] - 0s 415us/step - loss: 967.1076 - val_loss: 925.0804\nEpoch 25/50\n721/721 [==============================] - 0s 417us/step - loss: 934.0440 - val_loss: 892.3724\nEpoch 26/50\n721/721 [==============================] - 0s 411us/step - loss: 900.4691 - val_loss: 859.6032\nEpoch 27/50\n721/721 [==============================] - 0s 444us/step - loss: 866.7032 - val_loss: 826.5617\nEpoch 28/50\n721/721 [==============================] - 0s 419us/step - loss: 832.2809 - val_loss: 794.0129\nEpoch 29/50\n721/721 [==============================] - 0s 472us/step - loss: 798.2341 - val_loss: 761.2457\nEpoch 30/50\n721/721 [==============================] - 0s 436us/step - loss: 764.2928 - val_loss: 728.1109\nEpoch 31/50\n721/721 [==============================] - 3s 4ms/step - loss: 730.4632 - val_loss: 695.5548\nEpoch 32/50\n721/721 [==============================] - 2s 2ms/step - loss: 697.2217 - val_loss: 663.3194\nEpoch 33/50\n721/721 [==============================] - 1s 722us/step - loss: 663.9984 - val_loss: 631.9284\nEpoch 34/50\n721/721 [==============================] - 0s 426us/step - loss: 631.6392 - val_loss: 601.5264\nEpoch 35/50\n721/721 [==============================] - 0s 406us/step - loss: 600.2534 - val_loss: 570.9107\nEpoch 36/50\n721/721 [==============================] - 0s 414us/step - loss: 569.7867 - val_loss: 541.6350\nEpoch 37/50\n721/721 [==============================] - 0s 522us/step - loss: 540.4698 - val_loss: 514.1651\nEpoch 38/50\n721/721 [==============================] - 0s 419us/step - loss: 512.6303 - val_loss: 487.5582\nEpoch 39/50\n721/721 [==============================] - 0s 432us/step - loss: 485.8831 - val_loss: 462.7120\nEpoch 40/50\n721/721 [==============================] - 0s 474us/step - loss: 461.0741 - val_loss: 438.3518\nEpoch 41/50\n721/721 [==============================] - 0s 453us/step - loss: 436.8433 - val_loss: 416.0678\nEpoch 42/50\n721/721 [==============================] - 0s 434us/step - loss: 414.8552 - val_loss: 395.0929\nEpoch 43/50\n721/721 [==============================] - 0s 448us/step - loss: 394.3729 - val_loss: 375.6974\nEpoch 44/50\n721/721 [==============================] - 0s 435us/step - loss: 375.5817 - val_loss: 357.2132\nEpoch 45/50\n721/721 [==============================] - 0s 440us/step - loss: 357.9947 - val_loss: 340.4809\nEpoch 46/50\n721/721 [==============================] - 0s 477us/step - loss: 341.9553 - val_loss: 325.3432\nEpoch 47/50\n721/721 [==============================] - 0s 439us/step - loss: 327.5306 - val_loss: 311.5680\nEpoch 48/50\n721/721 [==============================] - 0s 459us/step - loss: 314.2844 - val_loss: 299.1857\nEpoch 49/50\n721/721 [==============================] - 0s 451us/step - loss: 302.6304 - val_loss: 287.4020\nEpoch 50/50\n721/721 [==============================] - 0s 393us/step - loss: 291.6280 - val_loss: 276.9141\n1 -- 276.91408400498057, 2 -- 291.8272995518561, 3 -- 308.7479769291459, 4 -- 416.541989425058, 5 -- 428.64699782198966, 6 -- 406.56883429311137, 7 -- 510.6347746889398, 8 -- 351.932008345743, 9 -- 532.8469911920499, 10 -- 373.24270530695316, 11 -- 310.9289481997141, 12 -- 352.3745596948254, 13 -- 412.00783507193825, 14 -- 287.76587933219264, 15 -- 391.4482700297803, 16 -- 467.7557481774523, 17 -- 213.2308869082539, 18 -- 448.27656324615276, 19 -- 391.3040344267676, 20 -- 484.37127506196515, 21 -- 302.0186953808421, 22 -- 534.4157060384945, 23 -- 616.7881873252293, 24 -- 602.7150257528883, 25 -- 279.19374088526575, 26 -- 344.7638701698413, 27 -- 347.0175657797908, 28 -- 356.58563979301346, 29 -- 259.543232979604, 30 -- 292.1894182368466, 31 -- 287.2612579324277, 32 -- 566.0116202497262, 33 -- 449.85227237897453, 34 -- 450.62590134221927, 35 -- 605.6388830909577, 36 -- 261.27356440717085, 37 -- 705.0917329294978, 38 -- 367.56828882758214, 39 -- 306.2954751242048, 40 -- 368.24614909191286, 41 -- 439.3912617516961, 42 -- 302.6680666119842, 43 -- 255.69936545790614, 44 -- 315.78908068916894, 45 -- 279.85546129600726, 46 -- 313.7261364852315, 47 -- 352.2384274254742, 48 -- 584.7150296752629, 49 -- 285.7974191838663, 50 -- 253.62019543739885, \nDone evaluating  50  times\n"
                }
            ],
            "source": "scores_B=runmodel(predictors_norm,50,False)"
        },
        {
            "cell_type": "markdown",
            "metadata": {},
            "source": "#### Result for Part B"
        },
        {
            "cell_type": "code",
            "execution_count": 38,
            "metadata": {
                "scrolled": false
            },
            "outputs": [
                {
                    "name": "stdout",
                    "output_type": "stream",
                    "text": "Mean squared errors\n[276.91408400498057, 291.8272995518561, 308.7479769291459, 416.541989425058, 428.64699782198966, 406.56883429311137, 510.6347746889398, 351.932008345743, 532.8469911920499, 373.24270530695316, 310.9289481997141, 352.3745596948254, 412.00783507193825, 287.76587933219264, 391.4482700297803, 467.7557481774523, 213.2308869082539, 448.27656324615276, 391.3040344267676, 484.37127506196515, 302.0186953808421, 534.4157060384945, 616.7881873252293, 602.7150257528883, 279.19374088526575, 344.7638701698413, 347.0175657797908, 356.58563979301346, 259.543232979604, 292.1894182368466, 287.2612579324277, 566.0116202497262, 449.85227237897453, 450.62590134221927, 605.6388830909577, 261.27356440717085, 705.0917329294978, 367.56828882758214, 306.2954751242048, 368.24614909191286, 439.3912617516961, 302.6680666119842, 255.69936545790614, 315.78908068916894, 279.85546129600726, 313.7261364852315, 352.2384274254742, 584.7150296752629, 285.7974191838663, 253.62019543739885]\n\nScores for  Part B\nMean = 386.8792866687871\nstandard deviation= 113.53794021335572\n"
                }
            ],
            "source": "mean_B,sd_B=print_scores('Part B',scores_B)"
        },
        {
            "cell_type": "markdown",
            "metadata": {},
            "source": "### Compare B with A"
        },
        {
            "cell_type": "code",
            "execution_count": 39,
            "metadata": {
                "scrolled": true
            },
            "outputs": [
                {
                    "name": "stdout",
                    "output_type": "stream",
                    "text": "                            A                   B\nMean                   446.7314168570003 386.8792866687871\nStandard deviation     791.2202896418884 113.53794021335572\n"
                }
            ],
            "source": "print('                            A                   B')\nprint('Mean                  ',mean_A,mean_B)\nprint('Standard deviation    ',sd_A,sd_B)"
        },
        {
            "cell_type": "markdown",
            "metadata": {},
            "source": "We can see the mean and standard deviation of the mean squared errors "
        },
        {
            "cell_type": "markdown",
            "metadata": {},
            "source": "### Part C"
        },
        {
            "cell_type": "markdown",
            "metadata": {},
            "source": "#### Run and evaluate the model with one hidden layer,with columns normalized and epoch=100 looping 50 times"
        },
        {
            "cell_type": "code",
            "execution_count": 21,
            "metadata": {
                "scrolled": false
            },
            "outputs": [
                {
                    "name": "stdout",
                    "output_type": "stream",
                    "text": "Started running the model....\nTrain on 721 samples, validate on 309 samples\nEpoch 1/100\n721/721 [==============================] - 6s 8ms/step - loss: 1547.4670 - val_loss: 1504.8750\nEpoch 2/100\n721/721 [==============================] - 0s 464us/step - loss: 1529.9142 - val_loss: 1487.9926\nEpoch 3/100\n721/721 [==============================] - 0s 470us/step - loss: 1512.7458 - val_loss: 1471.1519\nEpoch 4/100\n721/721 [==============================] - 0s 442us/step - loss: 1495.5680 - val_loss: 1454.3882\nEpoch 5/100\n721/721 [==============================] - 0s 484us/step - loss: 1478.0910 - val_loss: 1437.2062\nEpoch 6/100\n721/721 [==============================] - 0s 502us/step - loss: 1460.1035 - val_loss: 1419.3653\nEpoch 7/100\n721/721 [==============================] - 0s 453us/step - loss: 1441.1633 - val_loss: 1401.1619\nEpoch 8/100\n721/721 [==============================] - 0s 449us/step - loss: 1421.6028 - val_loss: 1381.9488\nEpoch 9/100\n721/721 [==============================] - 0s 467us/step - loss: 1401.2216 - val_loss: 1361.6827\nEpoch 10/100\n721/721 [==============================] - 0s 494us/step - loss: 1379.9522 - val_loss: 1340.6220\nEpoch 11/100\n721/721 [==============================] - 0s 449us/step - loss: 1357.6653 - val_loss: 1318.6903\nEpoch 12/100\n721/721 [==============================] - 0s 473us/step - loss: 1334.6697 - val_loss: 1295.3585\nEpoch 13/100\n721/721 [==============================] - 0s 467us/step - loss: 1310.2554 - val_loss: 1271.5342\nEpoch 14/100\n721/721 [==============================] - 0s 470us/step - loss: 1285.1108 - val_loss: 1247.2027\nEpoch 15/100\n721/721 [==============================] - 0s 464us/step - loss: 1259.2607 - val_loss: 1221.5940\nEpoch 16/100\n721/721 [==============================] - 0s 456us/step - loss: 1232.5035 - val_loss: 1195.1717\nEpoch 17/100\n721/721 [==============================] - 0s 430us/step - loss: 1204.7468 - val_loss: 1168.1232\nEpoch 18/100\n721/721 [==============================] - 3s 4ms/step - loss: 1176.3829 - val_loss: 1140.3241\nEpoch 19/100\n721/721 [==============================] - 2s 2ms/step - loss: 1147.4191 - val_loss: 1111.3649\nEpoch 20/100\n721/721 [==============================] - 0s 450us/step - loss: 1117.4965 - val_loss: 1082.5133\nEpoch 21/100\n721/721 [==============================] - 0s 464us/step - loss: 1087.3460 - val_loss: 1052.4193\nEpoch 22/100\n721/721 [==============================] - 0s 474us/step - loss: 1056.2239 - val_loss: 1022.4275\nEpoch 23/100\n721/721 [==============================] - 0s 495us/step - loss: 1025.3264 - val_loss: 991.0691\nEpoch 24/100\n721/721 [==============================] - 0s 493us/step - loss: 993.4712 - val_loss: 960.0746\nEpoch 25/100\n721/721 [==============================] - 0s 513us/step - loss: 961.9822 - val_loss: 928.5593\nEpoch 26/100\n721/721 [==============================] - 0s 438us/step - loss: 929.8456 - val_loss: 897.2982\nEpoch 27/100\n721/721 [==============================] - 0s 517us/step - loss: 898.0212 - val_loss: 865.4123\nEpoch 28/100\n721/721 [==============================] - 0s 478us/step - loss: 865.6446 - val_loss: 834.1339\nEpoch 29/100\n721/721 [==============================] - 0s 518us/step - loss: 833.6779 - val_loss: 802.2194\nEpoch 30/100\n721/721 [==============================] - 0s 484us/step - loss: 801.8422 - val_loss: 770.4883\nEpoch 31/100\n721/721 [==============================] - 0s 495us/step - loss: 769.7026 - val_loss: 739.6091\nEpoch 32/100\n721/721 [==============================] - 0s 460us/step - loss: 738.3630 - val_loss: 708.8257\nEpoch 33/100\n721/721 [==============================] - 0s 474us/step - loss: 707.5280 - val_loss: 678.2750\nEpoch 34/100\n721/721 [==============================] - 0s 467us/step - loss: 677.2177 - val_loss: 648.3045\nEpoch 35/100\n721/721 [==============================] - 0s 470us/step - loss: 647.4430 - val_loss: 618.9443\nEpoch 36/100\n721/721 [==============================] - 0s 512us/step - loss: 617.8897 - val_loss: 590.7542\nEpoch 37/100\n721/721 [==============================] - 2s 2ms/step - loss: 589.9244 - val_loss: 562.3331\nEpoch 38/100\n721/721 [==============================] - 0s 506us/step - loss: 561.5679 - val_loss: 535.6056\nEpoch 39/100\n721/721 [==============================] - 0s 657us/step - loss: 534.8525 - val_loss: 509.2344\nEpoch 40/100\n721/721 [==============================] - 0s 491us/step - loss: 508.8014 - val_loss: 484.1649\nEpoch 41/100\n721/721 [==============================] - 0s 470us/step - loss: 483.8566 - val_loss: 460.2344\nEpoch 42/100\n721/721 [==============================] - 4s 6ms/step - loss: 460.0540 - val_loss: 437.3775\nEpoch 43/100\n721/721 [==============================] - 0s 458us/step - loss: 437.1609 - val_loss: 415.9633\nEpoch 44/100\n721/721 [==============================] - 0s 498us/step - loss: 415.5894 - val_loss: 394.5462\nEpoch 45/100\n721/721 [==============================] - 0s 426us/step - loss: 394.7693 - val_loss: 375.2652\nEpoch 46/100\n721/721 [==============================] - 0s 487us/step - loss: 375.2681 - val_loss: 357.1369\nEpoch 47/100\n721/721 [==============================] - 0s 476us/step - loss: 357.2732 - val_loss: 339.5957\nEpoch 48/100\n721/721 [==============================] - 0s 449us/step - loss: 339.9846 - val_loss: 323.7794\nEpoch 49/100\n721/721 [==============================] - 0s 461us/step - loss: 324.1404 - val_loss: 308.4502\nEpoch 50/100\n721/721 [==============================] - 0s 470us/step - loss: 309.2299 - val_loss: 294.3473\nEpoch 51/100\n721/721 [==============================] - 0s 467us/step - loss: 295.5776 - val_loss: 282.0351\nEpoch 52/100\n721/721 [==============================] - 0s 471us/step - loss: 283.0592 - val_loss: 270.2183\nEpoch 53/100\n721/721 [==============================] - 0s 442us/step - loss: 271.4163 - val_loss: 259.4361\nEpoch 54/100\n721/721 [==============================] - 0s 447us/step - loss: 260.8392 - val_loss: 249.3142\nEpoch 55/100\n721/721 [==============================] - 0s 466us/step - loss: 251.1855 - val_loss: 240.0085\nEpoch 56/100\n721/721 [==============================] - 0s 470us/step - loss: 242.2484 - val_loss: 231.7213\nEpoch 57/100\n721/721 [==============================] - 2s 2ms/step - loss: 234.3440 - val_loss: 224.3860\nEpoch 58/100\n721/721 [==============================] - 0s 449us/step - loss: 227.2870 - val_loss: 217.7658\nEpoch 59/100\n721/721 [==============================] - 0s 464us/step - loss: 220.7738 - val_loss: 211.8468\nEpoch 60/100\n721/721 [==============================] - 0s 446us/step - loss: 215.1547 - val_loss: 206.2741\nEpoch 61/100\n721/721 [==============================] - 0s 449us/step - loss: 210.0108 - val_loss: 201.2922\nEpoch 62/100\n721/721 [==============================] - 0s 488us/step - loss: 205.2484 - val_loss: 196.9857\nEpoch 63/100\n721/721 [==============================] - 0s 421us/step - loss: 201.2403 - val_loss: 192.8013\nEpoch 64/100\n721/721 [==============================] - 0s 468us/step - loss: 197.3270 - val_loss: 189.2756\nEpoch 65/100\n721/721 [==============================] - 3s 4ms/step - loss: 194.0382 - val_loss: 185.9127\nEpoch 66/100\n721/721 [==============================] - 2s 2ms/step - loss: 191.1723 - val_loss: 182.7917\nEpoch 67/100\n721/721 [==============================] - 0s 446us/step - loss: 188.2567 - val_loss: 180.4638\nEpoch 68/100\n721/721 [==============================] - 0s 424us/step - loss: 185.9453 - val_loss: 178.0347\nEpoch 69/100\n721/721 [==============================] - 0s 428us/step - loss: 183.8302 - val_loss: 175.8106\nEpoch 70/100\n721/721 [==============================] - 0s 450us/step - loss: 181.8090 - val_loss: 173.7094\nEpoch 71/100\n721/721 [==============================] - 0s 490us/step - loss: 180.1313 - val_loss: 171.7819\nEpoch 72/100\n721/721 [==============================] - 0s 476us/step - loss: 178.4831 - val_loss: 170.0406\nEpoch 73/100\n721/721 [==============================] - 0s 476us/step - loss: 176.8961 - val_loss: 168.5498\nEpoch 74/100\n721/721 [==============================] - 0s 485us/step - loss: 175.5424 - val_loss: 167.0352\nEpoch 75/100\n721/721 [==============================] - 0s 454us/step - loss: 174.1829 - val_loss: 165.7241\nEpoch 76/100\n721/721 [==============================] - 0s 464us/step - loss: 173.0001 - val_loss: 164.4270\nEpoch 77/100\n721/721 [==============================] - 0s 473us/step - loss: 171.8394 - val_loss: 163.1516\nEpoch 78/100\n721/721 [==============================] - 0s 495us/step - loss: 170.8072 - val_loss: 161.9418\nEpoch 79/100\n721/721 [==============================] - 0s 467us/step - loss: 169.6826 - val_loss: 160.8379\nEpoch 80/100\n721/721 [==============================] - 0s 470us/step - loss: 168.6807 - val_loss: 159.7942\nEpoch 81/100\n721/721 [==============================] - 0s 446us/step - loss: 167.7382 - val_loss: 158.7133\nEpoch 82/100\n721/721 [==============================] - 0s 467us/step - loss: 166.8788 - val_loss: 157.6181\nEpoch 83/100\n721/721 [==============================] - 0s 474us/step - loss: 165.9011 - val_loss: 156.6677\nEpoch 84/100\n721/721 [==============================] - 0s 474us/step - loss: 164.9640 - val_loss: 155.7155\nEpoch 85/100\n721/721 [==============================] - 0s 467us/step - loss: 164.0841 - val_loss: 154.7630\nEpoch 86/100\n721/721 [==============================] - 0s 468us/step - loss: 163.1644 - val_loss: 153.8373\nEpoch 87/100\n721/721 [==============================] - 0s 459us/step - loss: 162.3903 - val_loss: 152.8283\nEpoch 88/100\n721/721 [==============================] - 0s 483us/step - loss: 161.3885 - val_loss: 151.8945\nEpoch 89/100\n721/721 [==============================] - 0s 492us/step - loss: 160.4351 - val_loss: 151.1449\nEpoch 90/100\n721/721 [==============================] - 0s 446us/step - loss: 159.6536 - val_loss: 150.2573\nEpoch 91/100\n721/721 [==============================] - 0s 470us/step - loss: 158.8421 - val_loss: 149.4970\nEpoch 92/100\n721/721 [==============================] - 0s 494us/step - loss: 157.8540 - val_loss: 148.6594\nEpoch 93/100\n721/721 [==============================] - 0s 470us/step - loss: 156.9779 - val_loss: 147.8431\nEpoch 94/100\n721/721 [==============================] - 0s 453us/step - loss: 156.1290 - val_loss: 147.0359\nEpoch 95/100\n721/721 [==============================] - 3s 4ms/step - loss: 155.2559 - val_loss: 146.1346\nEpoch 96/100\n721/721 [==============================] - 2s 2ms/step - loss: 154.3985 - val_loss: 145.2902\nEpoch 97/100\n721/721 [==============================] - 0s 469us/step - loss: 153.4548 - val_loss: 144.4559\nEpoch 98/100\n721/721 [==============================] - 0s 467us/step - loss: 152.5241 - val_loss: 143.6051\nEpoch 99/100\n721/721 [==============================] - 0s 473us/step - loss: 151.6344 - val_loss: 142.8234\nEpoch 100/100\n721/721 [==============================] - 0s 474us/step - loss: 150.7161 - val_loss: 141.9285\n1 -- 141.92854335919762, 2 -- 186.94989806782453, 3 -- 149.04301506993428, 4 -- 164.1829099491324, 5 -- 178.26965016277856, 6 -- 203.1328681701529, 7 -- 218.41841642669056, 8 -- 162.0099850883699, 9 -- 181.01797951499233, 10 -- 174.7660642084563, 11 -- 146.5034296146788, 12 -- 191.651399552885, 13 -- 156.79607307594262, 14 -- 194.7565481100017, 15 -- 221.0854292984087, 16 -- 162.60987773503106, 17 -- 143.73498803263706, 18 -- 144.73352270197373, 19 -- 126.77528205524843, 20 -- 177.90584922715948, 21 -- 158.59745203902668, 22 -- 186.21192389254588, 23 -- 147.09449775102547, 24 -- 158.25657189477963, 25 -- 136.11760524823518, 26 -- 160.12828222862612, 27 -- 156.84991708754453, 28 -- 141.39982761618117, 29 -- 178.32103858883144, 30 -- 160.70189927130147, 31 -- 190.88149118444346, 32 -- 154.8269412819327, 33 -- 163.4323131091946, 34 -- 155.95681957264654, 35 -- 171.26439480128937, 36 -- 159.71703518485543, 37 -- 157.54484329455792, 38 -- 158.38797224850455, 39 -- 147.76391754359247, 40 -- 148.4311502826942, 41 -- 183.4718781491018, 42 -- 153.93963410875386, 43 -- 150.47915074979844, 44 -- 190.7430839211624, 45 -- 162.3678821434916, 46 -- 179.38248796593135, 47 -- 156.05414388145272, 48 -- 172.5633058957641, 49 -- 139.38509060830194, 50 -- 171.95805857816575, \nDone evaluating  50  times\n"
                }
            ],
            "source": "scores_C=runmodel(predictors_norm,100,False)"
        },
        {
            "cell_type": "markdown",
            "metadata": {},
            "source": "#### Result for Part C"
        },
        {
            "cell_type": "code",
            "execution_count": 40,
            "metadata": {
                "scrolled": false
            },
            "outputs": [
                {
                    "name": "stdout",
                    "output_type": "stream",
                    "text": "Mean squared errors\n[141.92854335919762, 186.94989806782453, 149.04301506993428, 164.1829099491324, 178.26965016277856, 203.1328681701529, 218.41841642669056, 162.0099850883699, 181.01797951499233, 174.7660642084563, 146.5034296146788, 191.651399552885, 156.79607307594262, 194.7565481100017, 221.0854292984087, 162.60987773503106, 143.73498803263706, 144.73352270197373, 126.77528205524843, 177.90584922715948, 158.59745203902668, 186.21192389254588, 147.09449775102547, 158.25657189477963, 136.11760524823518, 160.12828222862612, 156.84991708754453, 141.39982761618117, 178.32103858883144, 160.70189927130147, 190.88149118444346, 154.8269412819327, 163.4323131091946, 155.95681957264654, 171.26439480128937, 159.71703518485543, 157.54484329455792, 158.38797224850455, 147.76391754359247, 148.4311502826942, 183.4718781491018, 153.93963410875386, 150.47915074979844, 190.7430839211624, 162.3678821434916, 179.38248796593135, 156.05414388145272, 172.5633058957641, 139.38509060830194, 171.95805857816575]\n\nScores for  Part C\nMean = 165.57004679090457\nstandard deviation= 20.133254919572703\n"
                }
            ],
            "source": "mean_C,sd_C=print_scores('Part C',scores_C)"
        },
        {
            "cell_type": "markdown",
            "metadata": {},
            "source": "### Compare C with B"
        },
        {
            "cell_type": "code",
            "execution_count": 41,
            "metadata": {
                "scrolled": true
            },
            "outputs": [
                {
                    "name": "stdout",
                    "output_type": "stream",
                    "text": "                            B                   C\nMean                   386.8792866687871 165.57004679090457\nStandard deviation     113.53794021335572 20.133254919572703\n"
                }
            ],
            "source": "print('                            B                   C')\nprint('Mean                  ',mean_B,mean_C)\nprint('Standard deviation    ',sd_B,sd_C)"
        },
        {
            "cell_type": "markdown",
            "metadata": {},
            "source": "We can see the mean and standard deviation of the mean squared errors "
        },
        {
            "cell_type": "markdown",
            "metadata": {},
            "source": "### Part D"
        },
        {
            "cell_type": "markdown",
            "metadata": {},
            "source": "#### Run and evaluate the model with three hidden layers,with columns normalized and epoch=50 looping 50 times"
        },
        {
            "cell_type": "code",
            "execution_count": 24,
            "metadata": {
                "scrolled": false
            },
            "outputs": [
                {
                    "name": "stdout",
                    "output_type": "stream",
                    "text": "Started running the model....\nTrain on 721 samples, validate on 309 samples\nEpoch 1/50\n721/721 [==============================] - 10s 15ms/step - loss: 1543.7926 - val_loss: 1493.9956\nEpoch 2/50\n721/721 [==============================] - 1s 1ms/step - loss: 1517.9012 - val_loss: 1464.7552\nEpoch 3/50\n721/721 [==============================] - 1s 1ms/step - loss: 1478.8357 - val_loss: 1419.5502\nEpoch 4/50\n721/721 [==============================] - 1s 1ms/step - loss: 1417.1769 - val_loss: 1345.7660\nEpoch 5/50\n721/721 [==============================] - 1s 1ms/step - loss: 1317.6591 - val_loss: 1231.3743\nEpoch 6/50\n721/721 [==============================] - 1s 1ms/step - loss: 1164.9206 - val_loss: 1065.1338\nEpoch 7/50\n721/721 [==============================] - 1s 1ms/step - loss: 956.8947 - val_loss: 847.5704\nEpoch 8/50\n721/721 [==============================] - 1s 1ms/step - loss: 713.3421 - val_loss: 611.7404\nEpoch 9/50\n721/721 [==============================] - 4s 6ms/step - loss: 488.7504 - val_loss: 424.7612\nEpoch 10/50\n721/721 [==============================] - 1s 1ms/step - loss: 351.8060 - val_loss: 320.7196\nEpoch 11/50\n721/721 [==============================] - 1s 1ms/step - loss: 293.7611 - val_loss: 273.1752\nEpoch 12/50\n721/721 [==============================] - 1s 1ms/step - loss: 262.6553 - val_loss: 249.9435\nEpoch 13/50\n721/721 [==============================] - 1s 1ms/step - loss: 244.0347 - val_loss: 232.4270\nEpoch 14/50\n721/721 [==============================] - 1s 1ms/step - loss: 230.5635 - val_loss: 220.2334\nEpoch 15/50\n721/721 [==============================] - 1s 1ms/step - loss: 220.8581 - val_loss: 212.1367\nEpoch 16/50\n721/721 [==============================] - 1s 1ms/step - loss: 213.8859 - val_loss: 205.0579\nEpoch 17/50\n721/721 [==============================] - 1s 1ms/step - loss: 207.3867 - val_loss: 200.0023\nEpoch 18/50\n721/721 [==============================] - 1s 1ms/step - loss: 201.5974 - val_loss: 194.1007\nEpoch 19/50\n721/721 [==============================] - 1s 1ms/step - loss: 197.1093 - val_loss: 188.9163\nEpoch 20/50\n721/721 [==============================] - 1s 1ms/step - loss: 192.6176 - val_loss: 185.4961\nEpoch 21/50\n721/721 [==============================] - 5s 7ms/step - loss: 188.5491 - val_loss: 181.5612\nEpoch 22/50\n721/721 [==============================] - 1s 1ms/step - loss: 185.5991 - val_loss: 177.2530\nEpoch 23/50\n721/721 [==============================] - 1s 1ms/step - loss: 181.9046 - val_loss: 174.9601\nEpoch 24/50\n721/721 [==============================] - 1s 1ms/step - loss: 178.8796 - val_loss: 172.0658\nEpoch 25/50\n721/721 [==============================] - 1s 1ms/step - loss: 176.4092 - val_loss: 169.5218\nEpoch 26/50\n721/721 [==============================] - 1s 1ms/step - loss: 173.6376 - val_loss: 165.3146\nEpoch 27/50\n721/721 [==============================] - 1s 1ms/step - loss: 170.9730 - val_loss: 163.0018\nEpoch 28/50\n721/721 [==============================] - 1s 1ms/step - loss: 168.3281 - val_loss: 160.4210\nEpoch 29/50\n721/721 [==============================] - 1s 1ms/step - loss: 165.9874 - val_loss: 158.2416\nEpoch 30/50\n721/721 [==============================] - 1s 1ms/step - loss: 163.7533 - val_loss: 156.2570\nEpoch 31/50\n721/721 [==============================] - 1s 1ms/step - loss: 161.5824 - val_loss: 153.7251\nEpoch 32/50\n721/721 [==============================] - 3s 4ms/step - loss: 159.9644 - val_loss: 151.4326\nEpoch 33/50\n721/721 [==============================] - 2s 3ms/step - loss: 158.0858 - val_loss: 149.8412\nEpoch 34/50\n721/721 [==============================] - 1s 1ms/step - loss: 156.3444 - val_loss: 146.9501\nEpoch 35/50\n721/721 [==============================] - 2s 3ms/step - loss: 154.9183 - val_loss: 145.3583\nEpoch 36/50\n721/721 [==============================] - 1s 1ms/step - loss: 153.3028 - val_loss: 143.5049\nEpoch 37/50\n721/721 [==============================] - 1s 1ms/step - loss: 151.7836 - val_loss: 142.5664\nEpoch 38/50\n721/721 [==============================] - 1s 1ms/step - loss: 149.8242 - val_loss: 139.7383\nEpoch 39/50\n721/721 [==============================] - 1s 1ms/step - loss: 148.6880 - val_loss: 138.5574\nEpoch 40/50\n721/721 [==============================] - 1s 1ms/step - loss: 147.4455 - val_loss: 136.5375\nEpoch 41/50\n721/721 [==============================] - 1s 1ms/step - loss: 145.5830 - val_loss: 135.4241\nEpoch 42/50\n721/721 [==============================] - 1s 1ms/step - loss: 144.7281 - val_loss: 132.8845\nEpoch 43/50\n721/721 [==============================] - 3s 4ms/step - loss: 143.1643 - val_loss: 132.7330\nEpoch 44/50\n721/721 [==============================] - 2s 3ms/step - loss: 142.1450 - val_loss: 131.3467\nEpoch 45/50\n721/721 [==============================] - 1s 1ms/step - loss: 141.2240 - val_loss: 130.0415\nEpoch 46/50\n721/721 [==============================] - 1s 1ms/step - loss: 140.0609 - val_loss: 128.2409\nEpoch 47/50\n721/721 [==============================] - 2s 3ms/step - loss: 139.3312 - val_loss: 126.3666\nEpoch 48/50\n721/721 [==============================] - 1s 1ms/step - loss: 138.0006 - val_loss: 127.4041\nEpoch 49/50\n721/721 [==============================] - 1s 1ms/step - loss: 136.9516 - val_loss: 124.2585\nEpoch 50/50\n721/721 [==============================] - 1s 1ms/step - loss: 136.1707 - val_loss: 123.1069\n1 -- 123.10693319748826, 2 -- 152.04253616124487, 3 -- 106.04086946708526, 4 -- 147.4061917842086, 5 -- 144.27608557692463, 6 -- 133.00701946755072, 7 -- 161.56936873787498, 8 -- 114.97703520160086, 9 -- 120.59745522312005, 10 -- 117.8075237900726, 11 -- 132.83368500923885, 12 -- 104.74177855788005, 13 -- 134.04214689641236, 14 -- 136.62278960004346, 15 -- 118.67346226409961, 16 -- 125.92231613751702, 17 -- 119.66882697487375, 18 -- 129.59395736456815, 19 -- 118.9614218417401, 20 -- 140.69716544154033, 21 -- 126.91294703234902, 22 -- 100.79095915087959, 23 -- 127.306516865522, 24 -- 88.29362528636628, 25 -- 122.65176116512181, 26 -- 123.56615992384711, 27 -- 140.10618515950833, 28 -- 120.69207427855349, 29 -- 125.76263178341999, 30 -- 140.5822632354284, 31 -- 169.16413153685286, 32 -- 138.19007823162596, 33 -- 122.11263129415698, 34 -- 102.80310105762968, 35 -- 142.86684640838448, 36 -- 143.26547366668345, 37 -- 146.6349838472493, 38 -- 145.29507077606428, 39 -- 139.6528576064576, 40 -- 138.52952856821773, 41 -- 93.67417385833039, 42 -- 115.49863055516454, 43 -- 120.88050837516154, 44 -- 87.79544005214098, 45 -- 141.83584636356724, 46 -- 127.15051372175633, 47 -- 119.21644534822309, 48 -- 137.7986817389667, 49 -- 114.37261404918553, 50 -- 135.8552573296174, \nDone evaluating  50  times\n"
                }
            ],
            "source": "scores_D=runmodel(predictors_norm,50,True)"
        },
        {
            "cell_type": "markdown",
            "metadata": {},
            "source": "#### Result for Part D"
        },
        {
            "cell_type": "code",
            "execution_count": 42,
            "metadata": {
                "scrolled": false
            },
            "outputs": [
                {
                    "name": "stdout",
                    "output_type": "stream",
                    "text": "Mean squared errors\n[123.10693319748826, 152.04253616124487, 106.04086946708526, 147.4061917842086, 144.27608557692463, 133.00701946755072, 161.56936873787498, 114.97703520160086, 120.59745522312005, 117.8075237900726, 132.83368500923885, 104.74177855788005, 134.04214689641236, 136.62278960004346, 118.67346226409961, 125.92231613751702, 119.66882697487375, 129.59395736456815, 118.9614218417401, 140.69716544154033, 126.91294703234902, 100.79095915087959, 127.306516865522, 88.29362528636628, 122.65176116512181, 123.56615992384711, 140.10618515950833, 120.69207427855349, 125.76263178341999, 140.5822632354284, 169.16413153685286, 138.19007823162596, 122.11263129415698, 102.80310105762968, 142.86684640838448, 143.26547366668345, 146.6349838472493, 145.29507077606428, 139.6528576064576, 138.52952856821773, 93.67417385833039, 115.49863055516454, 120.88050837516154, 87.79544005214098, 141.83584636356724, 127.15051372175633, 119.21644534822309, 137.7986817389667, 114.37261404918553, 135.8552573296174]\n\nScores for  Part D\nMean = 127.63693013923032\nstandard deviation= 16.99421784371839\n"
                }
            ],
            "source": "mean_D,sd_D=print_scores('Part D',scores_D)"
        },
        {
            "cell_type": "markdown",
            "metadata": {},
            "source": "### Compare D with B"
        },
        {
            "cell_type": "code",
            "execution_count": 43,
            "metadata": {
                "scrolled": false
            },
            "outputs": [
                {
                    "name": "stdout",
                    "output_type": "stream",
                    "text": "                            B                   D\nMean                   386.8792866687871 127.63693013923032\nStandard deviation     113.53794021335572 16.99421784371839\n"
                }
            ],
            "source": "print('                            B                   D')\nprint('Mean                  ',mean_B,mean_D)\nprint('Standard deviation    ',sd_B,sd_D)"
        },
        {
            "cell_type": "markdown",
            "metadata": {},
            "source": "We can see the mean and standard deviation of the mean squared errors "
        }
    ],
    "metadata": {
        "kernelspec": {
            "display_name": "Python 3.6",
            "language": "python",
            "name": "python3"
        },
        "language_info": {
            "codemirror_mode": {
                "name": "ipython",
                "version": 3
            },
            "file_extension": ".py",
            "mimetype": "text/x-python",
            "name": "python",
            "nbconvert_exporter": "python",
            "pygments_lexer": "ipython3",
            "version": "3.6.9"
        }
    },
    "nbformat": 4,
    "nbformat_minor": 1
}