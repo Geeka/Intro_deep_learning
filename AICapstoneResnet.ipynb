{
  "nbformat": 4,
  "nbformat_minor": 0,
  "metadata": {
    "colab": {
      "name": "Untitled0.ipynb",
      "provenance": [],
      "collapsed_sections": [],
      "authorship_tag": "ABX9TyMsvErzq1W+gTwWWee9SwX7"
    },
    "kernelspec": {
      "name": "python3",
      "display_name": "Python 3"
    },
    "widgets": {
      "application/vnd.jupyter.widget-state+json": {
        "f7cb0368d11f41cbba251eec79dfa094": {
          "model_module": "@jupyter-widgets/controls",
          "model_name": "HBoxModel",
          "state": {
            "_view_name": "HBoxView",
            "_dom_classes": [],
            "_model_name": "HBoxModel",
            "_view_module": "@jupyter-widgets/controls",
            "_model_module_version": "1.5.0",
            "_view_count": null,
            "_view_module_version": "1.5.0",
            "box_style": "",
            "layout": "IPY_MODEL_a8e64a9a06a54352bbfe10d470efeda5",
            "_model_module": "@jupyter-widgets/controls",
            "children": [
              "IPY_MODEL_87ffcdce6f93468db075f226399903ee",
              "IPY_MODEL_33bdeac9f31942ddaf986fe6aa472629"
            ]
          }
        },
        "a8e64a9a06a54352bbfe10d470efeda5": {
          "model_module": "@jupyter-widgets/base",
          "model_name": "LayoutModel",
          "state": {
            "_view_name": "LayoutView",
            "grid_template_rows": null,
            "right": null,
            "justify_content": null,
            "_view_module": "@jupyter-widgets/base",
            "overflow": null,
            "_model_module_version": "1.2.0",
            "_view_count": null,
            "flex_flow": null,
            "width": null,
            "min_width": null,
            "border": null,
            "align_items": null,
            "bottom": null,
            "_model_module": "@jupyter-widgets/base",
            "top": null,
            "grid_column": null,
            "overflow_y": null,
            "overflow_x": null,
            "grid_auto_flow": null,
            "grid_area": null,
            "grid_template_columns": null,
            "flex": null,
            "_model_name": "LayoutModel",
            "justify_items": null,
            "grid_row": null,
            "max_height": null,
            "align_content": null,
            "visibility": null,
            "align_self": null,
            "height": null,
            "min_height": null,
            "padding": null,
            "grid_auto_rows": null,
            "grid_gap": null,
            "max_width": null,
            "order": null,
            "_view_module_version": "1.2.0",
            "grid_template_areas": null,
            "object_position": null,
            "object_fit": null,
            "grid_auto_columns": null,
            "margin": null,
            "display": null,
            "left": null
          }
        },
        "87ffcdce6f93468db075f226399903ee": {
          "model_module": "@jupyter-widgets/controls",
          "model_name": "IntProgressModel",
          "state": {
            "_view_name": "ProgressView",
            "style": "IPY_MODEL_15541373f78049e7937e113d272614c9",
            "_dom_classes": [],
            "description": "",
            "_model_name": "IntProgressModel",
            "bar_style": "success",
            "max": 46827520,
            "_view_module": "@jupyter-widgets/controls",
            "_model_module_version": "1.5.0",
            "value": 46827520,
            "_view_count": null,
            "_view_module_version": "1.5.0",
            "orientation": "horizontal",
            "min": 0,
            "description_tooltip": null,
            "_model_module": "@jupyter-widgets/controls",
            "layout": "IPY_MODEL_04f8bea15c1345908cec371d19571959"
          }
        },
        "33bdeac9f31942ddaf986fe6aa472629": {
          "model_module": "@jupyter-widgets/controls",
          "model_name": "HTMLModel",
          "state": {
            "_view_name": "HTMLView",
            "style": "IPY_MODEL_4f0a05fb908f4a42ba9b62a6f312e595",
            "_dom_classes": [],
            "description": "",
            "_model_name": "HTMLModel",
            "placeholder": "​",
            "_view_module": "@jupyter-widgets/controls",
            "_model_module_version": "1.5.0",
            "value": "100% 44.7M/44.7M [00:00&lt;00:00, 168MB/s]",
            "_view_count": null,
            "_view_module_version": "1.5.0",
            "description_tooltip": null,
            "_model_module": "@jupyter-widgets/controls",
            "layout": "IPY_MODEL_93c5773100974497b495a509157965bb"
          }
        },
        "15541373f78049e7937e113d272614c9": {
          "model_module": "@jupyter-widgets/controls",
          "model_name": "ProgressStyleModel",
          "state": {
            "_view_name": "StyleView",
            "_model_name": "ProgressStyleModel",
            "description_width": "",
            "_view_module": "@jupyter-widgets/base",
            "_model_module_version": "1.5.0",
            "_view_count": null,
            "_view_module_version": "1.2.0",
            "bar_color": null,
            "_model_module": "@jupyter-widgets/controls"
          }
        },
        "04f8bea15c1345908cec371d19571959": {
          "model_module": "@jupyter-widgets/base",
          "model_name": "LayoutModel",
          "state": {
            "_view_name": "LayoutView",
            "grid_template_rows": null,
            "right": null,
            "justify_content": null,
            "_view_module": "@jupyter-widgets/base",
            "overflow": null,
            "_model_module_version": "1.2.0",
            "_view_count": null,
            "flex_flow": null,
            "width": null,
            "min_width": null,
            "border": null,
            "align_items": null,
            "bottom": null,
            "_model_module": "@jupyter-widgets/base",
            "top": null,
            "grid_column": null,
            "overflow_y": null,
            "overflow_x": null,
            "grid_auto_flow": null,
            "grid_area": null,
            "grid_template_columns": null,
            "flex": null,
            "_model_name": "LayoutModel",
            "justify_items": null,
            "grid_row": null,
            "max_height": null,
            "align_content": null,
            "visibility": null,
            "align_self": null,
            "height": null,
            "min_height": null,
            "padding": null,
            "grid_auto_rows": null,
            "grid_gap": null,
            "max_width": null,
            "order": null,
            "_view_module_version": "1.2.0",
            "grid_template_areas": null,
            "object_position": null,
            "object_fit": null,
            "grid_auto_columns": null,
            "margin": null,
            "display": null,
            "left": null
          }
        },
        "4f0a05fb908f4a42ba9b62a6f312e595": {
          "model_module": "@jupyter-widgets/controls",
          "model_name": "DescriptionStyleModel",
          "state": {
            "_view_name": "StyleView",
            "_model_name": "DescriptionStyleModel",
            "description_width": "",
            "_view_module": "@jupyter-widgets/base",
            "_model_module_version": "1.5.0",
            "_view_count": null,
            "_view_module_version": "1.2.0",
            "_model_module": "@jupyter-widgets/controls"
          }
        },
        "93c5773100974497b495a509157965bb": {
          "model_module": "@jupyter-widgets/base",
          "model_name": "LayoutModel",
          "state": {
            "_view_name": "LayoutView",
            "grid_template_rows": null,
            "right": null,
            "justify_content": null,
            "_view_module": "@jupyter-widgets/base",
            "overflow": null,
            "_model_module_version": "1.2.0",
            "_view_count": null,
            "flex_flow": null,
            "width": null,
            "min_width": null,
            "border": null,
            "align_items": null,
            "bottom": null,
            "_model_module": "@jupyter-widgets/base",
            "top": null,
            "grid_column": null,
            "overflow_y": null,
            "overflow_x": null,
            "grid_auto_flow": null,
            "grid_area": null,
            "grid_template_columns": null,
            "flex": null,
            "_model_name": "LayoutModel",
            "justify_items": null,
            "grid_row": null,
            "max_height": null,
            "align_content": null,
            "visibility": null,
            "align_self": null,
            "height": null,
            "min_height": null,
            "padding": null,
            "grid_auto_rows": null,
            "grid_gap": null,
            "max_width": null,
            "order": null,
            "_view_module_version": "1.2.0",
            "grid_template_areas": null,
            "object_position": null,
            "object_fit": null,
            "grid_auto_columns": null,
            "margin": null,
            "display": null,
            "left": null
          }
        }
      }
    }
  },
  "cells": [
    {
      "cell_type": "code",
      "metadata": {
        "id": "vtWfVf1Y8RB0",
        "colab_type": "code",
        "colab": {
          "base_uri": "https://localhost:8080/",
          "height": 204
        },
        "outputId": "07b699a8-eeec-4cf0-f0f0-3a3a35ad344e"
      },
      "source": [
        "!wget https://s3-api.us-geo.objectstorage.softlayer.net/cf-courses-data/CognitiveClass/DL0321EN/data/images/Positive_tensors.zip "
      ],
      "execution_count": 1,
      "outputs": [
        {
          "output_type": "stream",
          "text": [
            "--2020-03-02 06:32:14--  https://s3-api.us-geo.objectstorage.softlayer.net/cf-courses-data/CognitiveClass/DL0321EN/data/images/Positive_tensors.zip\n",
            "Resolving s3-api.us-geo.objectstorage.softlayer.net (s3-api.us-geo.objectstorage.softlayer.net)... 67.228.254.196\n",
            "Connecting to s3-api.us-geo.objectstorage.softlayer.net (s3-api.us-geo.objectstorage.softlayer.net)|67.228.254.196|:443... connected.\n",
            "HTTP request sent, awaiting response... 200 OK\n",
            "Length: 2598656062 (2.4G) [application/zip]\n",
            "Saving to: ‘Positive_tensors.zip’\n",
            "\n",
            "Positive_tensors.zi 100%[===================>]   2.42G  23.6MB/s    in 1m 41s  \n",
            "\n",
            "2020-03-02 06:34:01 (24.4 MB/s) - ‘Positive_tensors.zip’ saved [2598656062/2598656062]\n",
            "\n"
          ],
          "name": "stdout"
        }
      ]
    },
    {
      "cell_type": "code",
      "metadata": {
        "id": "32QS0FXM87gA",
        "colab_type": "code",
        "colab": {}
      },
      "source": [
        "!unzip -q -o Positive_tensors.zip "
      ],
      "execution_count": 0,
      "outputs": []
    },
    {
      "cell_type": "code",
      "metadata": {
        "id": "ZkUC1SCd-Fhr",
        "colab_type": "code",
        "colab": {}
      },
      "source": [
        ""
      ],
      "execution_count": 0,
      "outputs": []
    },
    {
      "cell_type": "code",
      "metadata": {
        "id": "s5IuzFR1-J-a",
        "colab_type": "code",
        "colab": {}
      },
      "source": [
        ""
      ],
      "execution_count": 0,
      "outputs": []
    },
    {
      "cell_type": "code",
      "metadata": {
        "id": "Jtvit3gO9Oen",
        "colab_type": "code",
        "colab": {
          "base_uri": "https://localhost:8080/",
          "height": 204
        },
        "outputId": "1db46a80-974e-41b5-8f86-b514c3ecfbfb"
      },
      "source": [
        "! wget https://s3-api.us-geo.objectstorage.softlayer.net/cf-courses-data/CognitiveClass/DL0321EN/data/images/Negative_tensors.zip"
      ],
      "execution_count": 5,
      "outputs": [
        {
          "output_type": "stream",
          "text": [
            "--2020-03-02 06:42:24--  https://s3-api.us-geo.objectstorage.softlayer.net/cf-courses-data/CognitiveClass/DL0321EN/data/images/Negative_tensors.zip\n",
            "Resolving s3-api.us-geo.objectstorage.softlayer.net (s3-api.us-geo.objectstorage.softlayer.net)... 67.228.254.196\n",
            "Connecting to s3-api.us-geo.objectstorage.softlayer.net (s3-api.us-geo.objectstorage.softlayer.net)|67.228.254.196|:443... connected.\n",
            "HTTP request sent, awaiting response... 200 OK\n",
            "Length: 2111408108 (2.0G) [application/zip]\n",
            "Saving to: ‘Negative_tensors.zip’\n",
            "\n",
            "Negative_tensors.zi 100%[===================>]   1.97G  29.0MB/s    in 69s     \n",
            "\n",
            "2020-03-02 06:43:33 (29.3 MB/s) - ‘Negative_tensors.zip’ saved [2111408108/2111408108]\n",
            "\n"
          ],
          "name": "stdout"
        }
      ]
    },
    {
      "cell_type": "code",
      "metadata": {
        "id": "TBE3qL6v9UVI",
        "colab_type": "code",
        "colab": {}
      },
      "source": [
        "!unzip -q Negative_tensors.zip"
      ],
      "execution_count": 0,
      "outputs": []
    },
    {
      "cell_type": "code",
      "metadata": {
        "id": "yjzOBCX_9klQ",
        "colab_type": "code",
        "colab": {
          "base_uri": "https://localhost:8080/",
          "height": 102
        },
        "outputId": "ae5240c8-5303-4259-a4fb-94e0b324ec71"
      },
      "source": [
        "!pip install torchvision"
      ],
      "execution_count": 7,
      "outputs": [
        {
          "output_type": "stream",
          "text": [
            "Requirement already satisfied: torchvision in /usr/local/lib/python3.6/dist-packages (0.5.0)\n",
            "Requirement already satisfied: numpy in /usr/local/lib/python3.6/dist-packages (from torchvision) (1.17.5)\n",
            "Requirement already satisfied: pillow>=4.1.1 in /usr/local/lib/python3.6/dist-packages (from torchvision) (6.2.2)\n",
            "Requirement already satisfied: six in /usr/local/lib/python3.6/dist-packages (from torchvision) (1.12.0)\n",
            "Requirement already satisfied: torch==1.4.0 in /usr/local/lib/python3.6/dist-packages (from torchvision) (1.4.0)\n"
          ],
          "name": "stdout"
        }
      ]
    },
    {
      "cell_type": "code",
      "metadata": {
        "id": "xRSWRUqg9pNo",
        "colab_type": "code",
        "colab": {
          "base_uri": "https://localhost:8080/",
          "height": 34
        },
        "outputId": "140030b6-8253-4805-a858-55e697ed4861"
      },
      "source": [
        "# These are the libraries will be used for this lab.\n",
        "import torchvision.models as models\n",
        "from PIL import Image\n",
        "import pandas\n",
        "from torchvision import transforms\n",
        "import torch.nn as nn\n",
        "import time\n",
        "import torch \n",
        "import matplotlib.pylab as plt\n",
        "import numpy as np\n",
        "from torch.utils.data import Dataset, DataLoader\n",
        "import h5py\n",
        "import os\n",
        "import glob\n",
        "torch.manual_seed(0)"
      ],
      "execution_count": 8,
      "outputs": [
        {
          "output_type": "execute_result",
          "data": {
            "text/plain": [
              "<torch._C.Generator at 0x7fb6eeb01730>"
            ]
          },
          "metadata": {
            "tags": []
          },
          "execution_count": 8
        }
      ]
    },
    {
      "cell_type": "code",
      "metadata": {
        "id": "bDxTutEu-NQX",
        "colab_type": "code",
        "colab": {}
      },
      "source": [
        "from matplotlib.pyplot import imshow\n",
        "import matplotlib.pylab as plt\n",
        "from PIL import Image\n",
        "import pandas as pd\n",
        "import os"
      ],
      "execution_count": 0,
      "outputs": []
    },
    {
      "cell_type": "code",
      "metadata": {
        "id": "FfiFvkFZ-RSD",
        "colab_type": "code",
        "colab": {
          "base_uri": "https://localhost:8080/",
          "height": 34
        },
        "outputId": "e2e3afdd-3014-4f1a-dd04-c5fc7979e44f"
      },
      "source": [
        "# Create your own dataset object\n",
        "\n",
        "class Dataset(Dataset):\n",
        "\n",
        "    # Constructor\n",
        "    def __init__(self,transform=None,train=True):\n",
        "        directory=\"/content\"\n",
        "        positive=\"Positive_tensors\"\n",
        "        negative='Negative_tensors'\n",
        "\n",
        "        positive_file_path=os.path.join(directory,positive)\n",
        "        negative_file_path=os.path.join(directory,negative)\n",
        "        positive_files=[os.path.join(positive_file_path,file) for file in os.listdir(positive_file_path) if file.endswith(\".pt\")]\n",
        "        negative_files=[os.path.join(negative_file_path,file) for file in os.listdir(negative_file_path) if file.endswith(\".pt\")]\n",
        "        number_of_samples=len(positive_files)+len(negative_files)\n",
        "        self.all_files=[None]*number_of_samples\n",
        "        self.all_files[::2]=positive_files\n",
        "        self.all_files[1::2]=negative_files \n",
        "        # The transform is goint to be used on image\n",
        "        self.transform = transform\n",
        "        #torch.LongTensor\n",
        "        self.Y=torch.zeros([number_of_samples]).type(torch.LongTensor)\n",
        "        self.Y[::2]=1\n",
        "        self.Y[1::2]=0\n",
        "        \n",
        "        if train:\n",
        "            self.all_files=self.all_files[0:30000]\n",
        "            self.Y=self.Y[0:30000]\n",
        "            self.len=len(self.all_files)\n",
        "        else:\n",
        "            self.all_files=self.all_files[30000:]\n",
        "            self.Y=self.Y[30000:]\n",
        "            self.len=len(self.all_files)     \n",
        "       \n",
        "    # Get the length\n",
        "    def __len__(self):\n",
        "        return self.len\n",
        "    \n",
        "    # Getter\n",
        "    def __getitem__(self, idx):\n",
        "               \n",
        "        image=torch.load(self.all_files[idx])\n",
        "        y=self.Y[idx]\n",
        "                  \n",
        "        # If there is any transform method, apply it onto the image\n",
        "        if self.transform:\n",
        "            image = self.transform(image)\n",
        "\n",
        "        return image, y\n",
        "    \n",
        "print(\"done\")"
      ],
      "execution_count": 13,
      "outputs": [
        {
          "output_type": "stream",
          "text": [
            "done\n"
          ],
          "name": "stdout"
        }
      ]
    },
    {
      "cell_type": "code",
      "metadata": {
        "id": "d-fjMDjvA38Q",
        "colab_type": "code",
        "colab": {
          "base_uri": "https://localhost:8080/",
          "height": 34
        },
        "outputId": "c9ce8e38-f9a7-4268-f763-4a60431b535f"
      },
      "source": [
        "%pwd"
      ],
      "execution_count": 12,
      "outputs": [
        {
          "output_type": "execute_result",
          "data": {
            "text/plain": [
              "'/content'"
            ]
          },
          "metadata": {
            "tags": []
          },
          "execution_count": 12
        }
      ]
    },
    {
      "cell_type": "code",
      "metadata": {
        "id": "Q_dT_SxqAoQf",
        "colab_type": "code",
        "colab": {
          "base_uri": "https://localhost:8080/",
          "height": 34
        },
        "outputId": "a046e4ec-dc2f-45dc-dbbe-1f92afd23a45"
      },
      "source": [
        "train_dataset = Dataset(train=True)\n",
        "validation_dataset = Dataset(train=False)\n",
        "print(\"done\")"
      ],
      "execution_count": 14,
      "outputs": [
        {
          "output_type": "stream",
          "text": [
            "done\n"
          ],
          "name": "stdout"
        }
      ]
    },
    {
      "cell_type": "code",
      "metadata": {
        "id": "0LjtlItbBG3E",
        "colab_type": "code",
        "colab": {
          "base_uri": "https://localhost:8080/",
          "height": 83,
          "referenced_widgets": [
            "f7cb0368d11f41cbba251eec79dfa094",
            "a8e64a9a06a54352bbfe10d470efeda5",
            "87ffcdce6f93468db075f226399903ee",
            "33bdeac9f31942ddaf986fe6aa472629",
            "15541373f78049e7937e113d272614c9",
            "04f8bea15c1345908cec371d19571959",
            "4f0a05fb908f4a42ba9b62a6f312e595",
            "93c5773100974497b495a509157965bb"
          ]
        },
        "outputId": "94dd8d55-8dd0-4448-c684-9bb41434e13b"
      },
      "source": [
        "# Step 1: Load the pre-trained model resnet18\n",
        "\n",
        "# Type your code here\n",
        "import torchvision.models as models\n",
        "model =models.resnet18(pretrained=True)"
      ],
      "execution_count": 15,
      "outputs": [
        {
          "output_type": "stream",
          "text": [
            "Downloading: \"https://download.pytorch.org/models/resnet18-5c106cde.pth\" to /root/.cache/torch/checkpoints/resnet18-5c106cde.pth\n"
          ],
          "name": "stderr"
        },
        {
          "output_type": "display_data",
          "data": {
            "application/vnd.jupyter.widget-view+json": {
              "model_id": "f7cb0368d11f41cbba251eec79dfa094",
              "version_minor": 0,
              "version_major": 2
            },
            "text/plain": [
              "HBox(children=(IntProgress(value=0, max=46827520), HTML(value='')))"
            ]
          },
          "metadata": {
            "tags": []
          }
        },
        {
          "output_type": "stream",
          "text": [
            "\n"
          ],
          "name": "stdout"
        }
      ]
    },
    {
      "cell_type": "code",
      "metadata": {
        "id": "QGb0GmcWBOJp",
        "colab_type": "code",
        "colab": {
          "base_uri": "https://localhost:8080/",
          "height": 1000
        },
        "outputId": "4cf3a454-edbf-4cf2-ebc2-90ba70775d47"
      },
      "source": [
        "# Step 2: Set the parameter cannot be trained for the pre-trained model\n",
        "model.requires_grad=False\n",
        "\n",
        "# Type your code here\n",
        "model"
      ],
      "execution_count": 16,
      "outputs": [
        {
          "output_type": "execute_result",
          "data": {
            "text/plain": [
              "ResNet(\n",
              "  (conv1): Conv2d(3, 64, kernel_size=(7, 7), stride=(2, 2), padding=(3, 3), bias=False)\n",
              "  (bn1): BatchNorm2d(64, eps=1e-05, momentum=0.1, affine=True, track_running_stats=True)\n",
              "  (relu): ReLU(inplace=True)\n",
              "  (maxpool): MaxPool2d(kernel_size=3, stride=2, padding=1, dilation=1, ceil_mode=False)\n",
              "  (layer1): Sequential(\n",
              "    (0): BasicBlock(\n",
              "      (conv1): Conv2d(64, 64, kernel_size=(3, 3), stride=(1, 1), padding=(1, 1), bias=False)\n",
              "      (bn1): BatchNorm2d(64, eps=1e-05, momentum=0.1, affine=True, track_running_stats=True)\n",
              "      (relu): ReLU(inplace=True)\n",
              "      (conv2): Conv2d(64, 64, kernel_size=(3, 3), stride=(1, 1), padding=(1, 1), bias=False)\n",
              "      (bn2): BatchNorm2d(64, eps=1e-05, momentum=0.1, affine=True, track_running_stats=True)\n",
              "    )\n",
              "    (1): BasicBlock(\n",
              "      (conv1): Conv2d(64, 64, kernel_size=(3, 3), stride=(1, 1), padding=(1, 1), bias=False)\n",
              "      (bn1): BatchNorm2d(64, eps=1e-05, momentum=0.1, affine=True, track_running_stats=True)\n",
              "      (relu): ReLU(inplace=True)\n",
              "      (conv2): Conv2d(64, 64, kernel_size=(3, 3), stride=(1, 1), padding=(1, 1), bias=False)\n",
              "      (bn2): BatchNorm2d(64, eps=1e-05, momentum=0.1, affine=True, track_running_stats=True)\n",
              "    )\n",
              "  )\n",
              "  (layer2): Sequential(\n",
              "    (0): BasicBlock(\n",
              "      (conv1): Conv2d(64, 128, kernel_size=(3, 3), stride=(2, 2), padding=(1, 1), bias=False)\n",
              "      (bn1): BatchNorm2d(128, eps=1e-05, momentum=0.1, affine=True, track_running_stats=True)\n",
              "      (relu): ReLU(inplace=True)\n",
              "      (conv2): Conv2d(128, 128, kernel_size=(3, 3), stride=(1, 1), padding=(1, 1), bias=False)\n",
              "      (bn2): BatchNorm2d(128, eps=1e-05, momentum=0.1, affine=True, track_running_stats=True)\n",
              "      (downsample): Sequential(\n",
              "        (0): Conv2d(64, 128, kernel_size=(1, 1), stride=(2, 2), bias=False)\n",
              "        (1): BatchNorm2d(128, eps=1e-05, momentum=0.1, affine=True, track_running_stats=True)\n",
              "      )\n",
              "    )\n",
              "    (1): BasicBlock(\n",
              "      (conv1): Conv2d(128, 128, kernel_size=(3, 3), stride=(1, 1), padding=(1, 1), bias=False)\n",
              "      (bn1): BatchNorm2d(128, eps=1e-05, momentum=0.1, affine=True, track_running_stats=True)\n",
              "      (relu): ReLU(inplace=True)\n",
              "      (conv2): Conv2d(128, 128, kernel_size=(3, 3), stride=(1, 1), padding=(1, 1), bias=False)\n",
              "      (bn2): BatchNorm2d(128, eps=1e-05, momentum=0.1, affine=True, track_running_stats=True)\n",
              "    )\n",
              "  )\n",
              "  (layer3): Sequential(\n",
              "    (0): BasicBlock(\n",
              "      (conv1): Conv2d(128, 256, kernel_size=(3, 3), stride=(2, 2), padding=(1, 1), bias=False)\n",
              "      (bn1): BatchNorm2d(256, eps=1e-05, momentum=0.1, affine=True, track_running_stats=True)\n",
              "      (relu): ReLU(inplace=True)\n",
              "      (conv2): Conv2d(256, 256, kernel_size=(3, 3), stride=(1, 1), padding=(1, 1), bias=False)\n",
              "      (bn2): BatchNorm2d(256, eps=1e-05, momentum=0.1, affine=True, track_running_stats=True)\n",
              "      (downsample): Sequential(\n",
              "        (0): Conv2d(128, 256, kernel_size=(1, 1), stride=(2, 2), bias=False)\n",
              "        (1): BatchNorm2d(256, eps=1e-05, momentum=0.1, affine=True, track_running_stats=True)\n",
              "      )\n",
              "    )\n",
              "    (1): BasicBlock(\n",
              "      (conv1): Conv2d(256, 256, kernel_size=(3, 3), stride=(1, 1), padding=(1, 1), bias=False)\n",
              "      (bn1): BatchNorm2d(256, eps=1e-05, momentum=0.1, affine=True, track_running_stats=True)\n",
              "      (relu): ReLU(inplace=True)\n",
              "      (conv2): Conv2d(256, 256, kernel_size=(3, 3), stride=(1, 1), padding=(1, 1), bias=False)\n",
              "      (bn2): BatchNorm2d(256, eps=1e-05, momentum=0.1, affine=True, track_running_stats=True)\n",
              "    )\n",
              "  )\n",
              "  (layer4): Sequential(\n",
              "    (0): BasicBlock(\n",
              "      (conv1): Conv2d(256, 512, kernel_size=(3, 3), stride=(2, 2), padding=(1, 1), bias=False)\n",
              "      (bn1): BatchNorm2d(512, eps=1e-05, momentum=0.1, affine=True, track_running_stats=True)\n",
              "      (relu): ReLU(inplace=True)\n",
              "      (conv2): Conv2d(512, 512, kernel_size=(3, 3), stride=(1, 1), padding=(1, 1), bias=False)\n",
              "      (bn2): BatchNorm2d(512, eps=1e-05, momentum=0.1, affine=True, track_running_stats=True)\n",
              "      (downsample): Sequential(\n",
              "        (0): Conv2d(256, 512, kernel_size=(1, 1), stride=(2, 2), bias=False)\n",
              "        (1): BatchNorm2d(512, eps=1e-05, momentum=0.1, affine=True, track_running_stats=True)\n",
              "      )\n",
              "    )\n",
              "    (1): BasicBlock(\n",
              "      (conv1): Conv2d(512, 512, kernel_size=(3, 3), stride=(1, 1), padding=(1, 1), bias=False)\n",
              "      (bn1): BatchNorm2d(512, eps=1e-05, momentum=0.1, affine=True, track_running_stats=True)\n",
              "      (relu): ReLU(inplace=True)\n",
              "      (conv2): Conv2d(512, 512, kernel_size=(3, 3), stride=(1, 1), padding=(1, 1), bias=False)\n",
              "      (bn2): BatchNorm2d(512, eps=1e-05, momentum=0.1, affine=True, track_running_stats=True)\n",
              "    )\n",
              "  )\n",
              "  (avgpool): AdaptiveAvgPool2d(output_size=(1, 1))\n",
              "  (fc): Linear(in_features=512, out_features=1000, bias=True)\n",
              ")"
            ]
          },
          "metadata": {
            "tags": []
          },
          "execution_count": 16
        }
      ]
    },
    {
      "cell_type": "code",
      "metadata": {
        "id": "Y41eAt0QBRxt",
        "colab_type": "code",
        "colab": {}
      },
      "source": [
        "model.fc=nn.Linear(512,2)"
      ],
      "execution_count": 0,
      "outputs": []
    },
    {
      "cell_type": "code",
      "metadata": {
        "id": "D9IqtMFzBZoV",
        "colab_type": "code",
        "colab": {
          "base_uri": "https://localhost:8080/",
          "height": 1000
        },
        "outputId": "381eeb18-c436-4aed-a20b-9558735af939"
      },
      "source": [
        "print(model)"
      ],
      "execution_count": 18,
      "outputs": [
        {
          "output_type": "stream",
          "text": [
            "ResNet(\n",
            "  (conv1): Conv2d(3, 64, kernel_size=(7, 7), stride=(2, 2), padding=(3, 3), bias=False)\n",
            "  (bn1): BatchNorm2d(64, eps=1e-05, momentum=0.1, affine=True, track_running_stats=True)\n",
            "  (relu): ReLU(inplace=True)\n",
            "  (maxpool): MaxPool2d(kernel_size=3, stride=2, padding=1, dilation=1, ceil_mode=False)\n",
            "  (layer1): Sequential(\n",
            "    (0): BasicBlock(\n",
            "      (conv1): Conv2d(64, 64, kernel_size=(3, 3), stride=(1, 1), padding=(1, 1), bias=False)\n",
            "      (bn1): BatchNorm2d(64, eps=1e-05, momentum=0.1, affine=True, track_running_stats=True)\n",
            "      (relu): ReLU(inplace=True)\n",
            "      (conv2): Conv2d(64, 64, kernel_size=(3, 3), stride=(1, 1), padding=(1, 1), bias=False)\n",
            "      (bn2): BatchNorm2d(64, eps=1e-05, momentum=0.1, affine=True, track_running_stats=True)\n",
            "    )\n",
            "    (1): BasicBlock(\n",
            "      (conv1): Conv2d(64, 64, kernel_size=(3, 3), stride=(1, 1), padding=(1, 1), bias=False)\n",
            "      (bn1): BatchNorm2d(64, eps=1e-05, momentum=0.1, affine=True, track_running_stats=True)\n",
            "      (relu): ReLU(inplace=True)\n",
            "      (conv2): Conv2d(64, 64, kernel_size=(3, 3), stride=(1, 1), padding=(1, 1), bias=False)\n",
            "      (bn2): BatchNorm2d(64, eps=1e-05, momentum=0.1, affine=True, track_running_stats=True)\n",
            "    )\n",
            "  )\n",
            "  (layer2): Sequential(\n",
            "    (0): BasicBlock(\n",
            "      (conv1): Conv2d(64, 128, kernel_size=(3, 3), stride=(2, 2), padding=(1, 1), bias=False)\n",
            "      (bn1): BatchNorm2d(128, eps=1e-05, momentum=0.1, affine=True, track_running_stats=True)\n",
            "      (relu): ReLU(inplace=True)\n",
            "      (conv2): Conv2d(128, 128, kernel_size=(3, 3), stride=(1, 1), padding=(1, 1), bias=False)\n",
            "      (bn2): BatchNorm2d(128, eps=1e-05, momentum=0.1, affine=True, track_running_stats=True)\n",
            "      (downsample): Sequential(\n",
            "        (0): Conv2d(64, 128, kernel_size=(1, 1), stride=(2, 2), bias=False)\n",
            "        (1): BatchNorm2d(128, eps=1e-05, momentum=0.1, affine=True, track_running_stats=True)\n",
            "      )\n",
            "    )\n",
            "    (1): BasicBlock(\n",
            "      (conv1): Conv2d(128, 128, kernel_size=(3, 3), stride=(1, 1), padding=(1, 1), bias=False)\n",
            "      (bn1): BatchNorm2d(128, eps=1e-05, momentum=0.1, affine=True, track_running_stats=True)\n",
            "      (relu): ReLU(inplace=True)\n",
            "      (conv2): Conv2d(128, 128, kernel_size=(3, 3), stride=(1, 1), padding=(1, 1), bias=False)\n",
            "      (bn2): BatchNorm2d(128, eps=1e-05, momentum=0.1, affine=True, track_running_stats=True)\n",
            "    )\n",
            "  )\n",
            "  (layer3): Sequential(\n",
            "    (0): BasicBlock(\n",
            "      (conv1): Conv2d(128, 256, kernel_size=(3, 3), stride=(2, 2), padding=(1, 1), bias=False)\n",
            "      (bn1): BatchNorm2d(256, eps=1e-05, momentum=0.1, affine=True, track_running_stats=True)\n",
            "      (relu): ReLU(inplace=True)\n",
            "      (conv2): Conv2d(256, 256, kernel_size=(3, 3), stride=(1, 1), padding=(1, 1), bias=False)\n",
            "      (bn2): BatchNorm2d(256, eps=1e-05, momentum=0.1, affine=True, track_running_stats=True)\n",
            "      (downsample): Sequential(\n",
            "        (0): Conv2d(128, 256, kernel_size=(1, 1), stride=(2, 2), bias=False)\n",
            "        (1): BatchNorm2d(256, eps=1e-05, momentum=0.1, affine=True, track_running_stats=True)\n",
            "      )\n",
            "    )\n",
            "    (1): BasicBlock(\n",
            "      (conv1): Conv2d(256, 256, kernel_size=(3, 3), stride=(1, 1), padding=(1, 1), bias=False)\n",
            "      (bn1): BatchNorm2d(256, eps=1e-05, momentum=0.1, affine=True, track_running_stats=True)\n",
            "      (relu): ReLU(inplace=True)\n",
            "      (conv2): Conv2d(256, 256, kernel_size=(3, 3), stride=(1, 1), padding=(1, 1), bias=False)\n",
            "      (bn2): BatchNorm2d(256, eps=1e-05, momentum=0.1, affine=True, track_running_stats=True)\n",
            "    )\n",
            "  )\n",
            "  (layer4): Sequential(\n",
            "    (0): BasicBlock(\n",
            "      (conv1): Conv2d(256, 512, kernel_size=(3, 3), stride=(2, 2), padding=(1, 1), bias=False)\n",
            "      (bn1): BatchNorm2d(512, eps=1e-05, momentum=0.1, affine=True, track_running_stats=True)\n",
            "      (relu): ReLU(inplace=True)\n",
            "      (conv2): Conv2d(512, 512, kernel_size=(3, 3), stride=(1, 1), padding=(1, 1), bias=False)\n",
            "      (bn2): BatchNorm2d(512, eps=1e-05, momentum=0.1, affine=True, track_running_stats=True)\n",
            "      (downsample): Sequential(\n",
            "        (0): Conv2d(256, 512, kernel_size=(1, 1), stride=(2, 2), bias=False)\n",
            "        (1): BatchNorm2d(512, eps=1e-05, momentum=0.1, affine=True, track_running_stats=True)\n",
            "      )\n",
            "    )\n",
            "    (1): BasicBlock(\n",
            "      (conv1): Conv2d(512, 512, kernel_size=(3, 3), stride=(1, 1), padding=(1, 1), bias=False)\n",
            "      (bn1): BatchNorm2d(512, eps=1e-05, momentum=0.1, affine=True, track_running_stats=True)\n",
            "      (relu): ReLU(inplace=True)\n",
            "      (conv2): Conv2d(512, 512, kernel_size=(3, 3), stride=(1, 1), padding=(1, 1), bias=False)\n",
            "      (bn2): BatchNorm2d(512, eps=1e-05, momentum=0.1, affine=True, track_running_stats=True)\n",
            "    )\n",
            "  )\n",
            "  (avgpool): AdaptiveAvgPool2d(output_size=(1, 1))\n",
            "  (fc): Linear(in_features=512, out_features=2, bias=True)\n",
            ")\n"
          ],
          "name": "stdout"
        }
      ]
    },
    {
      "cell_type": "code",
      "metadata": {
        "id": "yQjJhppxBkEI",
        "colab_type": "code",
        "colab": {}
      },
      "source": [
        "torch.save(model,'/content/model.pt')"
      ],
      "execution_count": 0,
      "outputs": []
    },
    {
      "cell_type": "code",
      "metadata": {
        "id": "S4JkX33aBtpc",
        "colab_type": "code",
        "colab": {
          "base_uri": "https://localhost:8080/",
          "height": 1000
        },
        "outputId": "4b5d786e-6ade-4f55-9a8e-16643d18946d"
      },
      "source": [
        "torch.load('/content/model.pt')"
      ],
      "execution_count": 21,
      "outputs": [
        {
          "output_type": "execute_result",
          "data": {
            "text/plain": [
              "ResNet(\n",
              "  (conv1): Conv2d(3, 64, kernel_size=(7, 7), stride=(2, 2), padding=(3, 3), bias=False)\n",
              "  (bn1): BatchNorm2d(64, eps=1e-05, momentum=0.1, affine=True, track_running_stats=True)\n",
              "  (relu): ReLU(inplace=True)\n",
              "  (maxpool): MaxPool2d(kernel_size=3, stride=2, padding=1, dilation=1, ceil_mode=False)\n",
              "  (layer1): Sequential(\n",
              "    (0): BasicBlock(\n",
              "      (conv1): Conv2d(64, 64, kernel_size=(3, 3), stride=(1, 1), padding=(1, 1), bias=False)\n",
              "      (bn1): BatchNorm2d(64, eps=1e-05, momentum=0.1, affine=True, track_running_stats=True)\n",
              "      (relu): ReLU(inplace=True)\n",
              "      (conv2): Conv2d(64, 64, kernel_size=(3, 3), stride=(1, 1), padding=(1, 1), bias=False)\n",
              "      (bn2): BatchNorm2d(64, eps=1e-05, momentum=0.1, affine=True, track_running_stats=True)\n",
              "    )\n",
              "    (1): BasicBlock(\n",
              "      (conv1): Conv2d(64, 64, kernel_size=(3, 3), stride=(1, 1), padding=(1, 1), bias=False)\n",
              "      (bn1): BatchNorm2d(64, eps=1e-05, momentum=0.1, affine=True, track_running_stats=True)\n",
              "      (relu): ReLU(inplace=True)\n",
              "      (conv2): Conv2d(64, 64, kernel_size=(3, 3), stride=(1, 1), padding=(1, 1), bias=False)\n",
              "      (bn2): BatchNorm2d(64, eps=1e-05, momentum=0.1, affine=True, track_running_stats=True)\n",
              "    )\n",
              "  )\n",
              "  (layer2): Sequential(\n",
              "    (0): BasicBlock(\n",
              "      (conv1): Conv2d(64, 128, kernel_size=(3, 3), stride=(2, 2), padding=(1, 1), bias=False)\n",
              "      (bn1): BatchNorm2d(128, eps=1e-05, momentum=0.1, affine=True, track_running_stats=True)\n",
              "      (relu): ReLU(inplace=True)\n",
              "      (conv2): Conv2d(128, 128, kernel_size=(3, 3), stride=(1, 1), padding=(1, 1), bias=False)\n",
              "      (bn2): BatchNorm2d(128, eps=1e-05, momentum=0.1, affine=True, track_running_stats=True)\n",
              "      (downsample): Sequential(\n",
              "        (0): Conv2d(64, 128, kernel_size=(1, 1), stride=(2, 2), bias=False)\n",
              "        (1): BatchNorm2d(128, eps=1e-05, momentum=0.1, affine=True, track_running_stats=True)\n",
              "      )\n",
              "    )\n",
              "    (1): BasicBlock(\n",
              "      (conv1): Conv2d(128, 128, kernel_size=(3, 3), stride=(1, 1), padding=(1, 1), bias=False)\n",
              "      (bn1): BatchNorm2d(128, eps=1e-05, momentum=0.1, affine=True, track_running_stats=True)\n",
              "      (relu): ReLU(inplace=True)\n",
              "      (conv2): Conv2d(128, 128, kernel_size=(3, 3), stride=(1, 1), padding=(1, 1), bias=False)\n",
              "      (bn2): BatchNorm2d(128, eps=1e-05, momentum=0.1, affine=True, track_running_stats=True)\n",
              "    )\n",
              "  )\n",
              "  (layer3): Sequential(\n",
              "    (0): BasicBlock(\n",
              "      (conv1): Conv2d(128, 256, kernel_size=(3, 3), stride=(2, 2), padding=(1, 1), bias=False)\n",
              "      (bn1): BatchNorm2d(256, eps=1e-05, momentum=0.1, affine=True, track_running_stats=True)\n",
              "      (relu): ReLU(inplace=True)\n",
              "      (conv2): Conv2d(256, 256, kernel_size=(3, 3), stride=(1, 1), padding=(1, 1), bias=False)\n",
              "      (bn2): BatchNorm2d(256, eps=1e-05, momentum=0.1, affine=True, track_running_stats=True)\n",
              "      (downsample): Sequential(\n",
              "        (0): Conv2d(128, 256, kernel_size=(1, 1), stride=(2, 2), bias=False)\n",
              "        (1): BatchNorm2d(256, eps=1e-05, momentum=0.1, affine=True, track_running_stats=True)\n",
              "      )\n",
              "    )\n",
              "    (1): BasicBlock(\n",
              "      (conv1): Conv2d(256, 256, kernel_size=(3, 3), stride=(1, 1), padding=(1, 1), bias=False)\n",
              "      (bn1): BatchNorm2d(256, eps=1e-05, momentum=0.1, affine=True, track_running_stats=True)\n",
              "      (relu): ReLU(inplace=True)\n",
              "      (conv2): Conv2d(256, 256, kernel_size=(3, 3), stride=(1, 1), padding=(1, 1), bias=False)\n",
              "      (bn2): BatchNorm2d(256, eps=1e-05, momentum=0.1, affine=True, track_running_stats=True)\n",
              "    )\n",
              "  )\n",
              "  (layer4): Sequential(\n",
              "    (0): BasicBlock(\n",
              "      (conv1): Conv2d(256, 512, kernel_size=(3, 3), stride=(2, 2), padding=(1, 1), bias=False)\n",
              "      (bn1): BatchNorm2d(512, eps=1e-05, momentum=0.1, affine=True, track_running_stats=True)\n",
              "      (relu): ReLU(inplace=True)\n",
              "      (conv2): Conv2d(512, 512, kernel_size=(3, 3), stride=(1, 1), padding=(1, 1), bias=False)\n",
              "      (bn2): BatchNorm2d(512, eps=1e-05, momentum=0.1, affine=True, track_running_stats=True)\n",
              "      (downsample): Sequential(\n",
              "        (0): Conv2d(256, 512, kernel_size=(1, 1), stride=(2, 2), bias=False)\n",
              "        (1): BatchNorm2d(512, eps=1e-05, momentum=0.1, affine=True, track_running_stats=True)\n",
              "      )\n",
              "    )\n",
              "    (1): BasicBlock(\n",
              "      (conv1): Conv2d(512, 512, kernel_size=(3, 3), stride=(1, 1), padding=(1, 1), bias=False)\n",
              "      (bn1): BatchNorm2d(512, eps=1e-05, momentum=0.1, affine=True, track_running_stats=True)\n",
              "      (relu): ReLU(inplace=True)\n",
              "      (conv2): Conv2d(512, 512, kernel_size=(3, 3), stride=(1, 1), padding=(1, 1), bias=False)\n",
              "      (bn2): BatchNorm2d(512, eps=1e-05, momentum=0.1, affine=True, track_running_stats=True)\n",
              "    )\n",
              "  )\n",
              "  (avgpool): AdaptiveAvgPool2d(output_size=(1, 1))\n",
              "  (fc): Linear(in_features=512, out_features=2, bias=True)\n",
              ")"
            ]
          },
          "metadata": {
            "tags": []
          },
          "execution_count": 21
        }
      ]
    },
    {
      "cell_type": "code",
      "metadata": {
        "id": "TzydtTzrB9F0",
        "colab_type": "code",
        "colab": {}
      },
      "source": [
        "# Step 1: Create the loss function\n",
        "\n",
        "# Type your code here\n",
        "criterion=nn.CrossEntropyLoss()"
      ],
      "execution_count": 0,
      "outputs": []
    },
    {
      "cell_type": "code",
      "metadata": {
        "id": "gooN7nlxCHH9",
        "colab_type": "code",
        "colab": {}
      },
      "source": [
        "import torch.utils.data\n",
        "train_loader=DataLoader(dataset=train_dataset,batch_size=100)\n",
        "validation_loader=DataLoader(dataset=validation_dataset,batch_size=100)"
      ],
      "execution_count": 0,
      "outputs": []
    },
    {
      "cell_type": "code",
      "metadata": {
        "id": "QzeBPHMXCTWl",
        "colab_type": "code",
        "colab": {}
      },
      "source": [
        ""
      ],
      "execution_count": 0,
      "outputs": []
    },
    {
      "cell_type": "code",
      "metadata": {
        "id": "KQz4oqtlCJbe",
        "colab_type": "code",
        "colab": {}
      },
      "source": [
        "optimizer = torch.optim.Adam([parameters  for parameters in model.parameters() if parameters.requires_grad],lr=0.001)"
      ],
      "execution_count": 0,
      "outputs": []
    },
    {
      "cell_type": "code",
      "metadata": {
        "id": "0t2D7KvYCV0U",
        "colab_type": "code",
        "colab": {}
      },
      "source": [
        "n_epochs=1\n",
        "loss_list=[]\n",
        "accuracy_list=[]\n",
        "mis_samples=[]\n",
        "correct=0\n",
        "N_test=len(validation_dataset)\n",
        "N_train=len(train_dataset)\n",
        "start_time = time.time()\n",
        "#n_epochs\n"
      ],
      "execution_count": 0,
      "outputs": []
    },
    {
      "cell_type": "code",
      "metadata": {
        "id": "hiACiprFCbDw",
        "colab_type": "code",
        "colab": {}
      },
      "source": [
        "Loss=0\n",
        "i=0\n",
        "epoch=0\n",
        "start_time = time.time()\n"
      ],
      "execution_count": 0,
      "outputs": []
    },
    {
      "cell_type": "code",
      "metadata": {
        "id": "iAcjEq9kCg6U",
        "colab_type": "code",
        "colab": {
          "base_uri": "https://localhost:8080/",
          "height": 105
        },
        "outputId": "d9dc8f4e-91d2-4033-a134-6ee3031dc520"
      },
      "source": [
        "i=0\n",
        "print('training...\\n')\n",
        "print(str(time.time()))\n",
        "for x, y in train_loader:\n",
        "\n",
        "    model.train() \n",
        "    i+=1\n",
        "    print(i,end=', ')\n",
        "    #clear gradient \n",
        "    optimizer.zero_grad()\n",
        "\n",
        "    #make a prediction \n",
        "    z=model(x)\n",
        "\n",
        "    # calculate loss \n",
        "    loss=criterion(z,y)\n",
        "\n",
        "    # calculate gradients of parameters \n",
        "    loss.backward()\n",
        "\n",
        "    # update parameters \n",
        "    optimizer.step()\n",
        "\n",
        "    loss_list.append(loss.data)\n"
      ],
      "execution_count": 29,
      "outputs": [
        {
          "output_type": "stream",
          "text": [
            "training...\n",
            "\n",
            "1583132573.681349\n",
            "1, 2, 3, 4, 5, 6, 7, 8, 9, 10, 11, 12, 13, 14, 15, 16, 17, 18, 19, 20, 21, 22, 23, 24, 25, 26, 27, 28, 29, 30, 31, 32, 33, 34, 35, 36, 37, 38, 39, 40, 41, 42, 43, 44, 45, 46, 47, 48, 49, 50, 51, 52, 53, 54, 55, 56, 57, 58, 59, 60, 61, 62, 63, 64, 65, 66, 67, 68, 69, 70, 71, 72, 73, 74, 75, 76, 77, 78, 79, 80, 81, 82, 83, 84, 85, 86, 87, 88, 89, 90, 91, 92, 93, 94, 95, 96, 97, 98, 99, 100, 101, 102, 103, 104, 105, 106, 107, 108, 109, 110, 111, 112, 113, 114, 115, 116, 117, 118, 119, 120, 121, 122, 123, 124, 125, 126, 127, 128, 129, 130, 131, 132, 133, 134, 135, 136, 137, 138, 139, 140, 141, 142, 143, 144, 145, 146, 147, 148, 149, 150, 151, 152, 153, 154, 155, 156, 157, 158, 159, 160, 161, 162, 163, 164, 165, 166, 167, 168, 169, 170, 171, 172, 173, 174, 175, 176, 177, 178, 179, 180, 181, 182, 183, 184, 185, 186, 187, 188, 189, 190, 191, 192, 193, 194, 195, 196, 197, 198, 199, 200, 201, 202, 203, 204, 205, 206, 207, 208, 209, 210, 211, 212, 213, 214, 215, 216, 217, 218, 219, 220, 221, 222, 223, 224, 225, 226, 227, 228, 229, 230, 231, 232, 233, 234, 235, 236, 237, 238, 239, 240, 241, 242, 243, 244, 245, 246, 247, 248, 249, 250, 251, 252, 253, 254, 255, 256, 257, 258, 259, 260, 261, 262, 263, 264, 265, 266, 267, 268, 269, 270, 271, 272, 273, 274, 275, 276, 277, 278, 279, 280, 281, 282, 283, 284, 285, 286, 287, 288, 289, 290, 291, 292, 293, 294, 295, 296, 297, 298, 299, 300, "
          ],
          "name": "stdout"
        }
      ]
    },
    {
      "cell_type": "code",
      "metadata": {
        "id": "V1rpkxi1ClUm",
        "colab_type": "code",
        "colab": {}
      },
      "source": [
        "torch.save(model,'/content/model.pt')\n"
      ],
      "execution_count": 0,
      "outputs": []
    },
    {
      "cell_type": "code",
      "metadata": {
        "id": "uDhrYBXpOki8",
        "colab_type": "code",
        "colab": {
          "base_uri": "https://localhost:8080/",
          "height": 1000
        },
        "outputId": "552ed991-e542-4652-97c0-60a2a7b7a55d"
      },
      "source": [
        "\n",
        "correct=0\n",
        "i1=0\n",
        "epoch=0\n",
        "print('\\nEvaluating...\\n')\n",
        "print(str(time.time()))\n",
        "for x_test, y_test in validation_loader:\n",
        "    # set model to eval \n",
        "    model.eval()\n",
        "    i1+=1\n",
        "    print (i1,correct,end=', ')        \n",
        "    #make a prediction \n",
        "    z=model(x_test)\n",
        "    print (i1,correct,end=', ')        \n",
        "\n",
        "    #find max \n",
        "    _,yhat=torch.max(z.data,1)\n",
        "    print (i1,correct,end=', ')        \n",
        "    #Calculate misclassified  samples in mini-batch \n",
        "    #hint +=(yhat==y_test).sum().item()\n",
        "    correct+=(yhat==y_test).sum().item()\n",
        "    print (i1,correct)   \n",
        "    #if(i1>=2):\n",
        "        #break"
      ],
      "execution_count": 31,
      "outputs": [
        {
          "output_type": "stream",
          "text": [
            "\n",
            "Evaluating...\n",
            "\n",
            "1583140558.505537\n",
            "1 0, 1 0, 1 0, 1 99\n",
            "2 99, 2 99, 2 99, 2 197\n",
            "3 197, 3 197, 3 197, 3 297\n",
            "4 297, 4 297, 4 297, 4 397\n",
            "5 397, 5 397, 5 397, 5 496\n",
            "6 496, 6 496, 6 496, 6 595\n",
            "7 595, 7 595, 7 595, 7 695\n",
            "8 695, 8 695, 8 695, 8 794\n",
            "9 794, 9 794, 9 794, 9 893\n",
            "10 893, 10 893, 10 893, 10 992\n",
            "11 992, 11 992, 11 992, 11 1092\n",
            "12 1092, 12 1092, 12 1092, 12 1191\n",
            "13 1191, 13 1191, 13 1191, 13 1290\n",
            "14 1290, 14 1290, 14 1290, 14 1390\n",
            "15 1390, 15 1390, 15 1390, 15 1490\n",
            "16 1490, 16 1490, 16 1490, 16 1590\n",
            "17 1590, 17 1590, 17 1590, 17 1690\n",
            "18 1690, 18 1690, 18 1690, 18 1790\n",
            "19 1790, 19 1790, 19 1790, 19 1889\n",
            "20 1889, 20 1889, 20 1889, 20 1989\n",
            "21 1989, 21 1989, 21 1989, 21 2088\n",
            "22 2088, 22 2088, 22 2088, 22 2188\n",
            "23 2188, 23 2188, 23 2188, 23 2288\n",
            "24 2288, 24 2288, 24 2288, 24 2387\n",
            "25 2387, 25 2387, 25 2387, 25 2487\n",
            "26 2487, 26 2487, 26 2487, 26 2586\n",
            "27 2586, 27 2586, 27 2586, 27 2686\n",
            "28 2686, 28 2686, 28 2686, 28 2786\n",
            "29 2786, 29 2786, 29 2786, 29 2886\n",
            "30 2886, 30 2886, 30 2886, 30 2986\n",
            "31 2986, 31 2986, 31 2986, 31 3085\n",
            "32 3085, 32 3085, 32 3085, 32 3185\n",
            "33 3185, 33 3185, 33 3185, 33 3285\n",
            "34 3285, 34 3285, 34 3285, 34 3385\n",
            "35 3385, 35 3385, 35 3385, 35 3485\n",
            "36 3485, 36 3485, 36 3485, 36 3585\n",
            "37 3585, 37 3585, 37 3585, 37 3685\n",
            "38 3685, 38 3685, 38 3685, 38 3785\n",
            "39 3785, 39 3785, 39 3785, 39 3885\n",
            "40 3885, 40 3885, 40 3885, 40 3985\n",
            "41 3985, 41 3985, 41 3985, 41 4083\n",
            "42 4083, 42 4083, 42 4083, 42 4180\n",
            "43 4180, 43 4180, 43 4180, 43 4277\n",
            "44 4277, 44 4277, 44 4277, 44 4377\n",
            "45 4377, 45 4377, 45 4377, 45 4477\n",
            "46 4477, 46 4477, 46 4477, 46 4576\n",
            "47 4576, 47 4576, 47 4576, 47 4675\n",
            "48 4675, 48 4675, 48 4675, 48 4775\n",
            "49 4775, 49 4775, 49 4775, 49 4874\n",
            "50 4874, 50 4874, 50 4874, 50 4973\n",
            "51 4973, 51 4973, 51 4973, 51 5072\n",
            "52 5072, 52 5072, 52 5072, 52 5171\n",
            "53 5171, 53 5171, 53 5171, 53 5271\n",
            "54 5271, 54 5271, 54 5271, 54 5371\n",
            "55 5371, 55 5371, 55 5371, 55 5471\n",
            "56 5471, 56 5471, 56 5471, 56 5571\n",
            "57 5571, 57 5571, 57 5571, 57 5671\n",
            "58 5671, 58 5671, 58 5671, 58 5771\n",
            "59 5771, 59 5771, 59 5771, 59 5869\n",
            "60 5869, 60 5869, 60 5869, 60 5967\n",
            "61 5967, 61 5967, 61 5967, 61 6067\n",
            "62 6067, 62 6067, 62 6067, 62 6166\n",
            "63 6166, 63 6166, 63 6166, 63 6266\n",
            "64 6266, 64 6266, 64 6266, 64 6365\n",
            "65 6365, 65 6365, 65 6365, 65 6465\n",
            "66 6465, 66 6465, 66 6465, 66 6565\n",
            "67 6565, 67 6565, 67 6565, 67 6664\n",
            "68 6664, 68 6664, 68 6664, 68 6764\n",
            "69 6764, 69 6764, 69 6764, 69 6864\n",
            "70 6864, 70 6864, 70 6864, 70 6964\n",
            "71 6964, 71 6964, 71 6964, 71 7064\n",
            "72 7064, 72 7064, 72 7064, 72 7162\n",
            "73 7162, 73 7162, 73 7162, 73 7260\n",
            "74 7260, 74 7260, 74 7260, 74 7360\n",
            "75 7360, 75 7360, 75 7360, 75 7459\n",
            "76 7459, 76 7459, 76 7459, 76 7559\n",
            "77 7559, 77 7559, 77 7559, 77 7659\n",
            "78 7659, 78 7659, 78 7659, 78 7757\n",
            "79 7757, 79 7757, 79 7757, 79 7856\n",
            "80 7856, 80 7856, 80 7856, 80 7955\n",
            "81 7955, 81 7955, 81 7955, 81 8054\n",
            "82 8054, 82 8054, 82 8054, 82 8152\n",
            "83 8152, 83 8152, 83 8152, 83 8252\n",
            "84 8252, 84 8252, 84 8252, 84 8352\n",
            "85 8352, 85 8352, 85 8352, 85 8452\n",
            "86 8452, 86 8452, 86 8452, 86 8550\n",
            "87 8550, 87 8550, 87 8550, 87 8648\n",
            "88 8648, 88 8648, 88 8648, 88 8748\n",
            "89 8748, 89 8748, 89 8748, 89 8848\n",
            "90 8848, 90 8848, 90 8848, 90 8948\n",
            "91 8948, 91 8948, 91 8948, 91 9047\n",
            "92 9047, 92 9047, 92 9047, 92 9146\n",
            "93 9146, 93 9146, 93 9146, 93 9245\n",
            "94 9245, 94 9245, 94 9245, 94 9344\n",
            "95 9344, 95 9344, 95 9344, 95 9443\n",
            "96 9443, 96 9443, 96 9443, 96 9542\n",
            "97 9542, 97 9542, 97 9542, 97 9642\n",
            "98 9642, 98 9642, 98 9642, 98 9742\n",
            "99 9742, 99 9742, 99 9742, 99 9842\n",
            "100 9842, 100 9842, 100 9842, 100 9942\n"
          ],
          "name": "stdout"
        }
      ]
    },
    {
      "cell_type": "code",
      "metadata": {
        "id": "ikjnMPOJKhXb",
        "colab_type": "code",
        "colab": {
          "base_uri": "https://localhost:8080/",
          "height": 34
        },
        "outputId": "973a6561-c26a-4da3-dcd1-9a5bead3e1d7"
      },
      "source": [
        "accuracy=correct/N_test\n",
        "\n",
        "accuracy_list.append(accuracy)\n",
        "accuracy"
      ],
      "execution_count": 32,
      "outputs": [
        {
          "output_type": "execute_result",
          "data": {
            "text/plain": [
              "0.9942"
            ]
          },
          "metadata": {
            "tags": []
          },
          "execution_count": 32
        }
      ]
    },
    {
      "cell_type": "code",
      "metadata": {
        "id": "yA3skqe2WCzK",
        "colab_type": "code",
        "colab": {
          "base_uri": "https://localhost:8080/",
          "height": 279
        },
        "outputId": "66aa0ec0-6ff7-49af-957a-a6321e43aedc"
      },
      "source": [
        "plt.plot(loss_list)\n",
        "plt.xlabel(\"iteration\")\n",
        "plt.ylabel(\"loss\")\n",
        "plt.show()\n"
      ],
      "execution_count": 33,
      "outputs": [
        {
          "output_type": "display_data",
          "data": {
            "image/png": "[encoded data removed]",
            "text/plain": [
              "<Figure size 432x288 with 1 Axes>"
            ]
          },
          "metadata": {
            "tags": []
          }
        }
      ]
    },
    {
      "cell_type": "code",
      "metadata": {
        "id": "ECSwTEjgkAEd",
        "colab_type": "code",
        "colab": {
          "base_uri": "https://localhost:8080/",
          "height": 34
        },
        "outputId": "0189deef-dfa4-41d2-bef7-5b1f23d64c19"
      },
      "source": [
        "plt.savefig('/content/plotaccuracy.png')"
      ],
      "execution_count": 34,
      "outputs": [
        {
          "output_type": "display_data",
          "data": {
            "text/plain": [
              "<Figure size 432x288 with 0 Axes>"
            ]
          },
          "metadata": {
            "tags": []
          }
        }
      ]
    },
    {
      "cell_type": "code",
      "metadata": {
        "id": "c3_x--N-kPnD",
        "colab_type": "code",
        "colab": {
          "base_uri": "https://localhost:8080/",
          "height": 187
        },
        "outputId": "64577cdc-aa9f-459e-e23c-ae7cd23b531e"
      },
      "source": [
        "i2=0\n",
        "mis_samples=[]\n",
        "validation_loader_1=DataLoader(dataset=validation_dataset,batch_size=1)\n",
        "for x_test, y_test in validation_loader_1:\n",
        "    # set model to eval \n",
        "    model.eval()\n",
        "    #make a prediction \n",
        "    z=model(x_test)\n",
        "\n",
        "    #find max \n",
        "    _,yhat=torch.max(z.data,1)\n",
        "    i2+=1\n",
        "    #if(i2%100==0):\n",
        "        #print (i2,end=', ')\n",
        "\n",
        "    #Calculate misclassified  samples in mini-batch \n",
        "    #hint +=(yhat==y_test).sum().item()\n",
        "    correct+=(yhat==y_test).sum().item()\n",
        "    if(yhat!=y_test):\n",
        "        mis_samples.append([x_test,y_test,i2])\n",
        "        print('\\n',len(mis_samples),str(x_test.shape),str(y_test.shape),i2)\n",
        "    if(len(mis_samples)>=5):\n",
        "        break\n"
      ],
      "execution_count": 50,
      "outputs": [
        {
          "output_type": "stream",
          "text": [
            "\n",
            " 1 torch.Size([1, 3, 224, 224]) torch.Size([1]) 74\n",
            "\n",
            " 2 torch.Size([1, 3, 224, 224]) torch.Size([1]) 148\n",
            "\n",
            " 3 torch.Size([1, 3, 224, 224]) torch.Size([1]) 156\n",
            "\n",
            " 4 torch.Size([1, 3, 224, 224]) torch.Size([1]) 500\n",
            "\n",
            " 5 torch.Size([1, 3, 224, 224]) torch.Size([1]) 564\n"
          ],
          "name": "stdout"
        }
      ]
    },
    {
      "cell_type": "code",
      "metadata": {
        "id": "1DzBOt3ClKEt",
        "colab_type": "code",
        "colab": {
          "base_uri": "https://localhost:8080/",
          "height": 1000
        },
        "outputId": "fd59e09e-614a-4725-8f8e-dfba77d5dc6d"
      },
      "source": [
        "mis_samples"
      ],
      "execution_count": 48,
      "outputs": [
        {
          "output_type": "execute_result",
          "data": {
            "text/plain": [
              "[[tensor([[[[1.4098, 1.1358, 0.9817,  ..., 1.7523, 1.7523, 1.7523],\n",
              "            [1.3413, 1.0844, 0.9132,  ..., 1.7694, 1.7694, 1.7694],\n",
              "            [1.5468, 1.3070, 1.1187,  ..., 1.7694, 1.7694, 1.7694],\n",
              "            ...,\n",
              "            [1.7694, 1.7694, 1.7694,  ..., 1.6153, 1.6153, 1.6153],\n",
              "            [1.8037, 1.8037, 1.8037,  ..., 1.6153, 1.6153, 1.6153],\n",
              "            [1.8379, 1.8550, 1.8379,  ..., 1.6153, 1.6153, 1.6153]],\n",
              "  \n",
              "           [[1.5182, 1.2381, 1.0805,  ..., 1.8683, 1.8683, 1.8683],\n",
              "            [1.4482, 1.1856, 1.0105,  ..., 1.8859, 1.8859, 1.8859],\n",
              "            [1.6583, 1.4132, 1.2206,  ..., 1.8859, 1.8859, 1.8859],\n",
              "            ...,\n",
              "            [1.8859, 1.8859, 1.8859,  ..., 1.7283, 1.7283, 1.7283],\n",
              "            [1.9209, 1.9209, 1.9209,  ..., 1.7283, 1.7283, 1.7283],\n",
              "            [1.9559, 1.9734, 1.9559,  ..., 1.7283, 1.7283, 1.7283]],\n",
              "  \n",
              "           [[1.6117, 1.3328, 1.1759,  ..., 1.9951, 1.9951, 1.9951],\n",
              "            [1.5420, 1.2805, 1.1062,  ..., 2.0125, 2.0125, 2.0125],\n",
              "            [1.7511, 1.5071, 1.3154,  ..., 2.0125, 2.0125, 2.0125],\n",
              "            ...,\n",
              "            [2.0125, 2.0125, 2.0125,  ..., 1.8557, 1.8557, 1.8557],\n",
              "            [2.0474, 2.0474, 2.0474,  ..., 1.8557, 1.8557, 1.8557],\n",
              "            [2.0823, 2.0997, 2.0823,  ..., 1.8557, 1.8557, 1.8557]]]]),\n",
              "  tensor([0]),\n",
              "  74],\n",
              " [tensor([[[[1.1529, 1.2385, 1.3584,  ..., 1.1872, 1.0673, 0.9646],\n",
              "            [1.1529, 1.1872, 1.2728,  ..., 1.1529, 1.0331, 0.9303],\n",
              "            [1.0844, 1.0844, 1.0844,  ..., 1.1015, 0.9817, 0.8961],\n",
              "            ...,\n",
              "            [1.2385, 1.2385, 1.2043,  ..., 1.5468, 1.5468, 1.5297],\n",
              "            [1.2557, 1.2385, 1.2214,  ..., 1.4269, 1.4098, 1.3927],\n",
              "            [1.2557, 1.2557, 1.2214,  ..., 1.4269, 1.4098, 1.3927]],\n",
              "  \n",
              "           [[1.0805, 1.1681, 1.2906,  ..., 1.1856, 1.0630, 0.9580],\n",
              "            [1.0805, 1.1155, 1.2031,  ..., 1.1506, 1.0280, 0.9230],\n",
              "            [1.0105, 1.0105, 1.0105,  ..., 1.0980, 0.9755, 0.8880],\n",
              "            ...,\n",
              "            [1.1681, 1.1681, 1.1331,  ..., 1.4657, 1.4657, 1.4482],\n",
              "            [1.1856, 1.1681, 1.1506,  ..., 1.3431, 1.3256, 1.3081],\n",
              "            [1.1856, 1.1856, 1.1506,  ..., 1.3431, 1.3256, 1.3081]],\n",
              "  \n",
              "           [[1.1411, 1.2282, 1.3502,  ..., 1.3154, 1.1934, 1.0888],\n",
              "            [1.1411, 1.1759, 1.2631,  ..., 1.2805, 1.1585, 1.0539],\n",
              "            [1.0714, 1.0714, 1.0714,  ..., 1.2282, 1.1062, 1.0191],\n",
              "            ...,\n",
              "            [1.2457, 1.2457, 1.2108,  ..., 1.4548, 1.4548, 1.4374],\n",
              "            [1.2631, 1.2457, 1.2282,  ..., 1.3328, 1.3154, 1.2980],\n",
              "            [1.2631, 1.2631, 1.2282,  ..., 1.3328, 1.3154, 1.2980]]]]),\n",
              "  tensor([0]),\n",
              "  148],\n",
              " [tensor([[[[1.7180, 1.6153, 1.4612,  ..., 1.7352, 1.7352, 1.7352],\n",
              "            [1.8037, 1.7180, 1.5982,  ..., 1.7523, 1.7523, 1.7523],\n",
              "            [1.7180, 1.6667, 1.5982,  ..., 1.7523, 1.7523, 1.7523],\n",
              "            ...,\n",
              "            [1.5468, 1.5982, 1.6324,  ..., 1.3755, 1.3755, 1.3755],\n",
              "            [1.5982, 1.6495, 1.6667,  ..., 1.4098, 1.4098, 1.4098],\n",
              "            [1.6667, 1.7009, 1.7180,  ..., 1.4612, 1.4612, 1.4612]],\n",
              "  \n",
              "           [[1.8333, 1.7283, 1.5707,  ..., 1.8508, 1.8508, 1.8508],\n",
              "            [1.9209, 1.8333, 1.7108,  ..., 1.8683, 1.8683, 1.8683],\n",
              "            [1.8333, 1.7808, 1.7108,  ..., 1.8683, 1.8683, 1.8683],\n",
              "            ...,\n",
              "            [1.6408, 1.6933, 1.7283,  ..., 1.4657, 1.4657, 1.4657],\n",
              "            [1.6933, 1.7458, 1.7633,  ..., 1.5007, 1.5007, 1.5007],\n",
              "            [1.7633, 1.7983, 1.8158,  ..., 1.5532, 1.5532, 1.5532]],\n",
              "  \n",
              "           [[1.9603, 1.8557, 1.6988,  ..., 1.9777, 1.9777, 1.9777],\n",
              "            [2.0474, 1.9603, 1.8383,  ..., 1.9951, 1.9951, 1.9951],\n",
              "            [1.9603, 1.9080, 1.8383,  ..., 1.9951, 1.9951, 1.9951],\n",
              "            ...,\n",
              "            [1.8034, 1.8557, 1.8905,  ..., 1.6291, 1.6291, 1.6291],\n",
              "            [1.8557, 1.9080, 1.9254,  ..., 1.6640, 1.6640, 1.6640],\n",
              "            [1.9254, 1.9603, 1.9777,  ..., 1.7163, 1.7163, 1.7163]]]]),\n",
              "  tensor([0]),\n",
              "  156],\n",
              " [tensor([[[[0.8104, 0.8618, 0.9303,  ..., 1.5125, 1.5297, 1.5468],\n",
              "            [0.8276, 0.8789, 0.9474,  ..., 1.5982, 1.6153, 1.6324],\n",
              "            [0.8789, 0.9132, 0.9646,  ..., 1.7009, 1.7180, 1.7352],\n",
              "            ...,\n",
              "            [1.3070, 1.3413, 1.4098,  ..., 2.1462, 2.0092, 1.8893],\n",
              "            [1.2385, 1.2728, 1.3584,  ..., 2.1633, 2.0092, 1.8893],\n",
              "            [1.1358, 1.1872, 1.3070,  ..., 2.1633, 2.0092, 1.8893]],\n",
              "  \n",
              "           [[0.7829, 0.8354, 0.9055,  ..., 1.4482, 1.4657, 1.4832],\n",
              "            [0.8004, 0.8529, 0.9230,  ..., 1.5357, 1.5532, 1.5707],\n",
              "            [0.8529, 0.8880, 0.9405,  ..., 1.6408, 1.6583, 1.6758],\n",
              "            ...,\n",
              "            [1.2556, 1.2906, 1.3256,  ..., 2.0784, 1.9384, 1.8158],\n",
              "            [1.1856, 1.2206, 1.2731,  ..., 2.0959, 1.9384, 1.8158],\n",
              "            [1.0805, 1.1331, 1.2206,  ..., 2.0959, 1.9384, 1.8158]],\n",
              "  \n",
              "           [[0.8274, 0.8797, 0.9494,  ..., 1.5245, 1.5420, 1.5594],\n",
              "            [0.8448, 0.8971, 0.9668,  ..., 1.6117, 1.6291, 1.6465],\n",
              "            [0.8971, 0.9319, 0.9842,  ..., 1.7163, 1.7337, 1.7511],\n",
              "            ...,\n",
              "            [1.2631, 1.2980, 1.3502,  ..., 2.0997, 1.9603, 1.8383],\n",
              "            [1.1934, 1.2282, 1.2980,  ..., 2.1171, 1.9603, 1.8383],\n",
              "            [1.0888, 1.1411, 1.2457,  ..., 2.1171, 1.9603, 1.8383]]]]),\n",
              "  tensor([0]),\n",
              "  500],\n",
              " [tensor([[[[1.7523, 1.8037, 1.8208,  ..., 1.4098, 1.4098, 1.4098],\n",
              "            [1.7694, 1.8037, 1.8037,  ..., 1.4440, 1.4440, 1.4612],\n",
              "            [1.7523, 1.7694, 1.7352,  ..., 1.5125, 1.5125, 1.5125],\n",
              "            ...,\n",
              "            [1.3584, 1.4440, 1.5468,  ..., 1.6153, 1.6667, 1.7180],\n",
              "            [1.3584, 1.4612, 1.5639,  ..., 1.6153, 1.6667, 1.7180],\n",
              "            [1.3927, 1.4783, 1.5810,  ..., 1.6324, 1.6667, 1.7180]],\n",
              "  \n",
              "           [[1.8333, 1.8859, 1.9034,  ..., 1.5182, 1.5182, 1.5182],\n",
              "            [1.8508, 1.8859, 1.8859,  ..., 1.5532, 1.5532, 1.5707],\n",
              "            [1.8333, 1.8508, 1.8158,  ..., 1.6232, 1.6232, 1.6232],\n",
              "            ...,\n",
              "            [1.4657, 1.5532, 1.6583,  ..., 1.7283, 1.7808, 1.8333],\n",
              "            [1.4657, 1.5707, 1.6758,  ..., 1.7283, 1.7808, 1.8333],\n",
              "            [1.5007, 1.5882, 1.6933,  ..., 1.7458, 1.7808, 1.8333]],\n",
              "  \n",
              "           [[1.9777, 2.0300, 2.0474,  ..., 1.6465, 1.6465, 1.6465],\n",
              "            [1.9951, 2.0300, 2.0300,  ..., 1.6814, 1.6814, 1.6988],\n",
              "            [1.9777, 1.9951, 1.9603,  ..., 1.7511, 1.7511, 1.7511],\n",
              "            ...,\n",
              "            [1.5768, 1.6814, 1.7860,  ..., 1.8557, 1.9080, 1.9603],\n",
              "            [1.5942, 1.6988, 1.8034,  ..., 1.8557, 1.9080, 1.9603],\n",
              "            [1.6291, 1.7163, 1.8208,  ..., 1.8731, 1.9080, 1.9603]]]]),\n",
              "  tensor([0]),\n",
              "  564]]"
            ]
          },
          "metadata": {
            "tags": []
          },
          "execution_count": 48
        }
      ]
    }
  ]
}